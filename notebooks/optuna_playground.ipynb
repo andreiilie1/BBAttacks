{
 "cells": [
  {
   "cell_type": "code",
   "execution_count": null,
   "id": "82c7ea19-a8fe-4f90-b12e-0ddb969bd4b5",
   "metadata": {},
   "outputs": [],
   "source": [
    "import os\n",
    "GPU_ID = \"3\""
   ]
  },
  {
   "cell_type": "code",
   "execution_count": null,
   "id": "181cb35d-09e9-44fd-a64e-0a43ca486764",
   "metadata": {},
   "outputs": [],
   "source": [
    "from tensorflow import keras\n",
    "import numpy as np\n",
    "import pandas as pd\n",
    "import matplotlib.pyplot as plt\n",
    "import importlib\n",
    "from tensorflow.keras.datasets import cifar100\n",
    "from tensorflow.keras import backend as K\n",
    "from tensorflow import keras as keras\n",
    "import json\n",
    "import time\n",
    "import datetime\n",
    "from pathlib import Path\n",
    "from tqdm.notebook import tqdm\n",
    "import sys\n",
    "import gc"
   ]
  },
  {
   "cell_type": "code",
   "execution_count": null,
   "id": "2617476c-a20c-4d4b-b2d9-8131df5242a1",
   "metadata": {},
   "outputs": [],
   "source": [
    "os.environ[\"CUDA_DEVICE_ORDER\"]=\"PCI_BUS_ID\"   # see issue #152\n",
    "os.environ[\"CUDA_VISIBLE_DEVICES\"]=GPU_ID"
   ]
  },
  {
   "cell_type": "markdown",
   "id": "f9582338-27d6-4d08-986e-3833b6be7ec5",
   "metadata": {},
   "source": [
    "<h3> Basic optuna usage </h3>"
   ]
  },
  {
   "cell_type": "code",
   "execution_count": null,
   "id": "02942ae7-3774-450c-8c42-114d55a3ba6d",
   "metadata": {},
   "outputs": [],
   "source": [
    "import optuna\n",
    "optuna.logging.set_verbosity(optuna.logging.WARNING)"
   ]
  },
  {
   "cell_type": "code",
   "execution_count": null,
   "id": "8342d9b8-a4fc-4921-9b72-4123342a8bc7",
   "metadata": {},
   "outputs": [],
   "source": [
    "def objective(trial):\n",
    "    x = trial.suggest_float(\"x\", -10, 10)\n",
    "    return (x - 2) ** 2"
   ]
  },
  {
   "cell_type": "code",
   "execution_count": null,
   "id": "b8ed9105-c13e-4f1e-9fca-80cea8e58ad5",
   "metadata": {
    "tags": []
   },
   "outputs": [],
   "source": [
    "study = optuna.create_study()\n",
    "study.optimize(objective, n_trials=100)"
   ]
  },
  {
   "cell_type": "code",
   "execution_count": null,
   "id": "4836b3f1-3b7d-4e8b-ae63-4de671930a8f",
   "metadata": {},
   "outputs": [],
   "source": [
    "best_params = study.best_params\n",
    "found_x = best_params[\"x\"]\n",
    "print(\"Found x: {}, (x - 2)^2: {}\".format(found_x, (found_x - 2) ** 2))"
   ]
  },
  {
   "cell_type": "code",
   "execution_count": null,
   "id": "5467838a-8f36-4429-81c5-eff1ae7d9e0f",
   "metadata": {},
   "outputs": [],
   "source": [
    "study.best_value"
   ]
  },
  {
   "cell_type": "markdown",
   "id": "a69954d1-572d-402e-90b8-aa092d7487c9",
   "metadata": {},
   "source": [
    "<h3> Loading CIFAR100 data and model</h3>"
   ]
  },
  {
   "cell_type": "code",
   "execution_count": null,
   "id": "075e836d-d709-4779-a2f2-127532c9dabd",
   "metadata": {},
   "outputs": [],
   "source": [
    "CIFAR100_VGG_PATH = \"/home/ailie/Repos/BBAttacks/models/cifar100vgg/\"\n",
    "\n",
    "import sys\n",
    "sys.path.append(CIFAR100_VGG_PATH)\n",
    "import cifar100vgg"
   ]
  },
  {
   "cell_type": "code",
   "execution_count": null,
   "id": "a5323201-882e-4231-b723-bf1ca7088cfa",
   "metadata": {},
   "outputs": [],
   "source": [
    "import importlib"
   ]
  },
  {
   "cell_type": "code",
   "execution_count": null,
   "id": "f0f86e21-0ac6-43cc-b44c-7d85cc5d845b",
   "metadata": {},
   "outputs": [],
   "source": [
    "importlib.reload(cifar100vgg)\n",
    "WEIGHTS_FILE_NAME = \"cifar100vgg.h5\"\n",
    "model = cifar100vgg.cifar100vgg(train=False, weights_path=CIFAR100_VGG_PATH + WEIGHTS_FILE_NAME)"
   ]
  },
  {
   "cell_type": "code",
   "execution_count": null,
   "id": "b80f3006-22e2-4d4d-a716-e194f24d41ef",
   "metadata": {},
   "outputs": [],
   "source": [
    "NUM_CLASSES = 100\n",
    "LOAD_DATA = True\n",
    "SAVE_DATA = False"
   ]
  },
  {
   "cell_type": "code",
   "execution_count": null,
   "id": "9535e65f-de2c-4185-9c4e-973db2961df1",
   "metadata": {},
   "outputs": [],
   "source": [
    "if LOAD_DATA:\n",
    "    (x_train, y_train), (x_test, y_test) = cifar100.load_data()\n",
    "\n",
    "    x_train = x_train.astype('float32')\n",
    "    x_test = x_test.astype('float32')\n",
    "\n",
    "    y_train = keras.utils.to_categorical(y_train, NUM_CLASSES)\n",
    "    y_test = keras.utils.to_categorical(y_test, NUM_CLASSES)\n",
    "    \n",
    "    if SAVE_DATA:\n",
    "        np.save(\"x_test.npy\", x_test)\n",
    "        np.save(\"y_test.npy\", y_test)"
   ]
  },
  {
   "cell_type": "code",
   "execution_count": null,
   "id": "b38f894d-4560-4bb8-ac61-89b393a0ad52",
   "metadata": {},
   "outputs": [],
   "source": [
    "x_train = x_train.astype('int')\n",
    "x_test = x_test.astype('int')"
   ]
  },
  {
   "cell_type": "code",
   "execution_count": null,
   "id": "08b4e604-fcd4-421e-9766-0131feddd1b2",
   "metadata": {},
   "outputs": [],
   "source": [
    "preds_train = model.predict(x_train)\n",
    "    \n",
    "preds_train_labels = np.argmax(preds_train, axis=1)"
   ]
  },
  {
   "cell_type": "code",
   "execution_count": null,
   "id": "6976e021-b5cb-439f-a4df-ebd16ddbf3a7",
   "metadata": {},
   "outputs": [],
   "source": [
    "true_train_labels = np.argmax(y_train, axis=1)"
   ]
  },
  {
   "cell_type": "code",
   "execution_count": null,
   "id": "efdc87cb-4c31-4b92-a0a3-c613d482b86f",
   "metadata": {},
   "outputs": [],
   "source": [
    "acc_train = np.mean(true_train_labels == preds_train_labels)\n",
    "print(f\"Training accuracy: {acc_train}\")"
   ]
  },
  {
   "cell_type": "code",
   "execution_count": null,
   "id": "dfa9c8bf-cec5-4d2c-98f2-c219cd6b4a0a",
   "metadata": {},
   "outputs": [],
   "source": [
    "preds_test = model.predict(x_test)\n",
    "\n",
    "preds_test_labels = np.argmax(preds_test, axis=1)"
   ]
  },
  {
   "cell_type": "code",
   "execution_count": null,
   "id": "0caddd61-5ab2-4541-a0ac-c8a991ffa17c",
   "metadata": {},
   "outputs": [],
   "source": [
    "true_test_labels = np.argmax(y_test, axis=1)"
   ]
  },
  {
   "cell_type": "code",
   "execution_count": null,
   "id": "5545ece1-e759-4b1b-88de-b50eab421c77",
   "metadata": {},
   "outputs": [],
   "source": [
    "acc_test = np.mean(true_test_labels == preds_test_labels)\n",
    "print(f\"Test accuracy: {acc_test}\")"
   ]
  },
  {
   "cell_type": "code",
   "execution_count": null,
   "id": "a6938a3b-debe-4af5-bb52-fdb3e8c98c4c",
   "metadata": {},
   "outputs": [],
   "source": [
    "x_test_correct = x_test[preds_test_labels == true_test_labels]\n",
    "y_test_correct = y_test[preds_test_labels == true_test_labels]"
   ]
  },
  {
   "cell_type": "code",
   "execution_count": null,
   "id": "723d37d6-256f-4258-9229-857187b7c04a",
   "metadata": {},
   "outputs": [],
   "source": [
    "true_test_labels_correct = np.argmax(y_test_correct, axis=1)"
   ]
  },
  {
   "cell_type": "code",
   "execution_count": null,
   "id": "29e30a5c-ae9c-484e-8935-2399e5364892",
   "metadata": {},
   "outputs": [],
   "source": [
    "plt.imshow(x_test_correct[0])"
   ]
  },
  {
   "cell_type": "markdown",
   "id": "df8a1231-ff2a-45a5-80bf-1188aa9fecfa",
   "metadata": {},
   "source": [
    "<h3> Try to use Optuna to generate adversarial grid attacks </h3>"
   ]
  },
  {
   "cell_type": "code",
   "execution_count": null,
   "id": "e06ca083-5c7c-4fb9-8b1d-0fa8eed0ae3e",
   "metadata": {},
   "outputs": [],
   "source": [
    "sys.path.append(\"/home/ailie/Repos/BBAttacks/attacks/\")\n",
    "sys.path.append(\"/home/ailie/Repos/BBAttacks/utils/\")\n",
    "\n",
    "import utils"
   ]
  },
  {
   "cell_type": "code",
   "execution_count": null,
   "id": "cb3df207-24d5-43f2-9884-2c2069812792",
   "metadata": {},
   "outputs": [],
   "source": [
    "pixel_groups = utils.get_grid_pixel_groups(patch_size=4, image_size=np.shape(x_test_correct[0])[0])"
   ]
  },
  {
   "cell_type": "code",
   "execution_count": null,
   "id": "d788231c-85bd-49c0-962d-b1608a4ca12b",
   "metadata": {},
   "outputs": [],
   "source": [
    "def apply_pixel_group_perturbation(image, pixel_group, delta):\n",
    "    new_image = image.copy()\n",
    "    for pixel in pixel_group:\n",
    "        for ch in range(3):\n",
    "            new_image[pixel[0]][pixel[1]][ch] += delta\n",
    "            new_image[pixel[0]][pixel[1]][ch] = utils.cap(new_image[pixel[0]][pixel[1]][ch], 0, 255)\n",
    "    \n",
    "    return new_image"
   ]
  },
  {
   "cell_type": "code",
   "execution_count": null,
   "id": "417d75d7-61c8-4e25-b8a0-ba109aca3542",
   "metadata": {},
   "outputs": [],
   "source": [
    "def restore_study_image(study, image, pixel_groups):\n",
    "    deltas_map = study.best_params\n",
    "    altered_image = image.copy()\n",
    "    \n",
    "    for x in deltas_map:\n",
    "        delta = deltas_map[x]\n",
    "        group_idx = int(x[1:])\n",
    "        pixel_group = pixel_groups[group_idx]\n",
    "        altered_image = apply_pixel_group_perturbation(altered_image, pixel_group, delta)\n",
    "        \n",
    "    return altered_image"
   ]
  },
  {
   "cell_type": "code",
   "execution_count": null,
   "id": "d6635f20-dddb-4623-b9df-68bef549fc51",
   "metadata": {},
   "outputs": [],
   "source": [
    "def run_optuna_attack(model, image, true_label, pixel_groups, DELTA_RANGE=20, N_TRIALS=200, early_stop=False):\n",
    "    QUERY_COUNT = 0\n",
    "    PERTURBED = False\n",
    "    STOP = False\n",
    "    BEST_IMPROVEMENT = 0\n",
    "    \n",
    "    original_image = image.copy()    \n",
    "    init_prob = model.predict(np.array([image]))[0][true_label]\n",
    "    \n",
    "    def objective(trial):\n",
    "        nonlocal QUERY_COUNT\n",
    "        nonlocal PERTURBED\n",
    "        nonlocal STOP\n",
    "        nonlocal BEST_IMPROVEMENT\n",
    "        \n",
    "        altered_image = original_image.copy()\n",
    "\n",
    "        for group_idx in range(len(pixel_groups)):\n",
    "            pixel_group = pixel_groups[group_idx]\n",
    "            delta = trial.suggest_int(f\"x{group_idx}\", -DELTA_RANGE, DELTA_RANGE)\n",
    "            altered_image = apply_pixel_group_perturbation(altered_image, pixel_group, delta)\n",
    "\n",
    "        perturbed_output = model.predict(np.array([altered_image]))\n",
    "        QUERY_COUNT += 1\n",
    "        \n",
    "        if (np.argmax(perturbed_output[0], axis=0) != true_label) or PERTURBED:\n",
    "            PERTURBED = True\n",
    "            trial.study.stop()\n",
    "        \n",
    "        \n",
    "        if early_stop:\n",
    "            improvement = (init_prob - perturbed_output[0][true_label]) * 100\n",
    "            if improvement > BEST_IMPROVEMENT:\n",
    "                BEST_IMPROVEMENT = improvement\n",
    "                \n",
    "            if BEST_IMPROVEMENT < 1 and QUERY_COUNT >= N_TRIALS/4:\n",
    "                STOP = True\n",
    "                trial.study.stop()\n",
    "\n",
    "            if BEST_IMPROVEMENT < 5 and QUERY_COUNT >= N_TRIALS/2:\n",
    "                STOP = True\n",
    "                trial.study.stop()\n",
    "\n",
    "            if STOP:\n",
    "                trial.study.stop()\n",
    "        \n",
    "        return perturbed_output[0][true_label]\n",
    "    \n",
    "    study = optuna.create_study()\n",
    "    study.optimize(objective, n_trials=N_TRIALS)\n",
    "    \n",
    "    if STOP:\n",
    "        print(\"EARLY STOPPED\")\n",
    "        \n",
    "    perturbed_image = restore_study_image(study, image, pixel_groups)\n",
    "    init_prob = model.predict(np.array([image]))[0][true_label]\n",
    "\n",
    "    perturbed_label = np.argmax(model.predict(np.array([perturbed_image]))[0])\n",
    "    \n",
    "    return {\n",
    "        \"original_image\": original_image,\n",
    "        \"true_label\": true_label,\n",
    "        \"perturbed_image\": perturbed_image, \n",
    "        \"perturbed_label\": perturbed_label, \n",
    "        \"query_count\": QUERY_COUNT\n",
    "    }"
   ]
  },
  {
   "cell_type": "code",
   "execution_count": null,
   "id": "655f6319-3534-4dba-b416-98ea309682e5",
   "metadata": {},
   "outputs": [],
   "source": [
    "import math\n",
    "\n",
    "def get_optuna_attack_stats(optuna_attack_result):\n",
    "    is_perturbed = not(optuna_attack_result[\"true_label\"] == optuna_attack_result[\"perturbed_label\"])\n",
    "    \n",
    "    original_image = optuna_attack_result[\"original_image\"]\n",
    "    perturbed_image = optuna_attack_result[\"perturbed_image\"]\n",
    "\n",
    "    perturbation = original_image - perturbed_image\n",
    "\n",
    "    l2_distance = math.sqrt(np.sum(perturbation**2)) / 255\n",
    "    # linf_distance = np.max(np.abs(perturbation)) / 255\n",
    "    # TODO: uncomment above and delete below for normalized Linf, keeping it now like this for debugging\n",
    "    linf_distance = np.max(np.abs(perturbation))\n",
    "    l1_distance = np.sum(np.abs(perturbation)) / 255\n",
    "    query_count = optuna_attack_result[\"query_count\"]\n",
    "    return {\n",
    "        \"is_perturbed\": is_perturbed,\n",
    "        \"l1_distance\": l1_distance,\n",
    "        \"l2_distance\": l2_distance,\n",
    "        \"linf_distance\": linf_distance,\n",
    "        \"query_count\": query_count\n",
    "    }"
   ]
  },
  {
   "cell_type": "code",
   "execution_count": null,
   "id": "84bcfedf-86c4-4b4a-bdf3-bbe3889542dd",
   "metadata": {},
   "outputs": [],
   "source": [
    "def run_adaptive_optuna_attack(model, image, true_label, pixel_groups, delta_range_list, num_trials_list, early_stop=False):\n",
    "    # TODO: add early stopping. if e.g > half iterations and <1% decrease in prob, then stop\n",
    "    num_queries = 0\n",
    "    for (delta_range, n_trials) in list(zip(delta_range_list, num_trials_list)):        \n",
    "        optuna_attack_result = run_optuna_attack(\n",
    "            model=model, \n",
    "            image=x_test_correct[image_index], \n",
    "            true_label=true_test_labels_correct[image_index], \n",
    "            pixel_groups=pixel_groups,\n",
    "            DELTA_RANGE=delta_range,\n",
    "            N_TRIALS=n_trials,\n",
    "            early_stop=early_stop\n",
    "        )\n",
    "        \n",
    "        current_stats = get_optuna_attack_stats(optuna_attack_result)\n",
    "        num_queries += current_stats[\"query_count\"]\n",
    "        \n",
    "        if current_stats[\"is_perturbed\"]:\n",
    "            break\n",
    "    \n",
    "    final_stats = current_stats.copy()\n",
    "    final_stats[\"query_count\"] = num_queries\n",
    "    return final_stats"
   ]
  },
  {
   "cell_type": "code",
   "execution_count": null,
   "id": "c00457d9-393c-404a-b3f3-4969fa953a13",
   "metadata": {},
   "outputs": [],
   "source": [
    "plt.figure(figsize=(3,3))\n",
    "plt.imshow(x_test_correct[5])\n",
    "print(np.argmax(y_test_correct[5]))"
   ]
  },
  {
   "cell_type": "code",
   "execution_count": null,
   "id": "29800dff-8257-4094-aad8-661c701d2dae",
   "metadata": {},
   "outputs": [],
   "source": [
    "image_index = 5\n",
    "adaptive_optuna_stats = run_adaptive_optuna_attack(\n",
    "    model=model, \n",
    "    image=x_test_correct[image_index], \n",
    "    true_label=true_test_labels_correct[image_index], \n",
    "    pixel_groups=pixel_groups, \n",
    "    delta_range_list=[30], \n",
    "    num_trials_list=[120],\n",
    "    early_stop=True\n",
    ")\n",
    "print(adaptive_optuna_stats)"
   ]
  },
  {
   "cell_type": "code",
   "execution_count": null,
   "id": "2b404f1d-2307-4c07-8398-a7b1691e3925",
   "metadata": {
    "tags": []
   },
   "outputs": [],
   "source": [
    "for trial in range(20):\n",
    "    for image_index in range(5,6):\n",
    "        adaptive_optuna_stats = run_adaptive_optuna_attack(\n",
    "            model=model, \n",
    "            image=x_test_correct[image_index], \n",
    "            true_label=true_test_labels_correct[image_index], \n",
    "            pixel_groups=pixel_groups, \n",
    "            delta_range_list=[30], \n",
    "            num_trials_list=[1200]\n",
    "        )\n",
    "        print(adaptive_optuna_stats)"
   ]
  },
  {
   "cell_type": "code",
   "execution_count": null,
   "id": "ac859f9c-b5fc-4f9d-920e-f4efe1a1a5ef",
   "metadata": {},
   "outputs": [],
   "source": []
  },
  {
   "cell_type": "code",
   "execution_count": null,
   "id": "a832ac80-4b5a-4066-9cd1-ae4895f81927",
   "metadata": {
    "tags": []
   },
   "outputs": [],
   "source": [
    "perturbed_count = 0\n",
    "total_l1_dist = 0\n",
    "total_l2_dist = 0\n",
    "total_linf_dist = 0\n",
    "total_query_count = 0\n",
    "for image_index in tqdm(range(100)):\n",
    "    adaptive_optuna_stats = run_adaptive_optuna_attack(\n",
    "        model=model, \n",
    "        image=x_test_correct[image_index], \n",
    "        true_label=true_test_labels_correct[image_index], \n",
    "        pixel_groups=pixel_groups, \n",
    "        delta_range_list=[10, 20, 30], \n",
    "        num_trials_list=[200, 400, 800]\n",
    "    )\n",
    "    print(adaptive_optuna_stats)\n",
    "    try:\n",
    "        if(adaptive_optuna_stats[\"is_perturbed\"]):\n",
    "            perturbed_count += 1\n",
    "            total_l1_dist += adaptive_optuna_stats['l1_distance']\n",
    "            total_l2_dist += adaptive_optuna_stats['l2_distance']\n",
    "            total_linf_dist += adaptive_optuna_stats['linf_distance']\n",
    "            total_query_count += adaptive_optuna_stats['query_count']\n",
    "    except Exception as e:\n",
    "        print(e)"
   ]
  },
  {
   "cell_type": "code",
   "execution_count": null,
   "id": "baace037-8a6e-45e5-8c47-16fc1ef44c4e",
   "metadata": {},
   "outputs": [],
   "source": [
    "perturbed_count"
   ]
  },
  {
   "cell_type": "code",
   "execution_count": null,
   "id": "c527a30e-b4aa-4ee8-8774-53e8a1e52bd9",
   "metadata": {},
   "outputs": [],
   "source": [
    "total_l2_dist/perturbed_count / (32*32*3)"
   ]
  },
  {
   "cell_type": "code",
   "execution_count": null,
   "id": "43723b46-0cac-483e-b28c-ebe477e692b9",
   "metadata": {},
   "outputs": [],
   "source": [
    "adaptive_optuna_stats"
   ]
  },
  {
   "cell_type": "code",
   "execution_count": null,
   "id": "580cb73d-13f7-435a-91a8-5606973368f7",
   "metadata": {},
   "outputs": [],
   "source": [
    "total_query_count/perturbed_count"
   ]
  },
  {
   "cell_type": "code",
   "execution_count": null,
   "id": "668fba16-9b6f-46d9-a046-d86507bde76f",
   "metadata": {},
   "outputs": [],
   "source": [
    "np.shape(x_test[0])"
   ]
  },
  {
   "cell_type": "code",
   "execution_count": null,
   "id": "11c1af9a-410e-46a4-b039-7b2a06ba0198",
   "metadata": {},
   "outputs": [],
   "source": [
    "optuna_stats = {}\n",
    "for image_index in tqdm(range(30)):\n",
    "    optuna_attack_result = run_optuna_attack(\n",
    "        model=model, \n",
    "        image=x_test_correct[image_index], \n",
    "        true_label=true_test_labels_correct[image_index], \n",
    "        pixel_groups=pixel_groups,\n",
    "        DELTA_RANGE=12,\n",
    "        N_TRIALS=20000\n",
    "    )\n",
    "\n",
    "    optuna_stats[image_index] = get_optuna_attack_stats(optuna_attack_result)\n",
    "    print(optuna_stats[image_index])"
   ]
  },
  {
   "cell_type": "code",
   "execution_count": null,
   "id": "44ab0e54-8460-4ff7-9a7f-ba1727c00d91",
   "metadata": {},
   "outputs": [],
   "source": [
    "fig = plt.figure(figsize=(5,2))\n",
    "\n",
    "ax1 = fig.add_subplot(1,2,1)\n",
    "ax1.set_title(\"Initial prob:{:.2f}\".format(init_prob))\n",
    "ax1.imshow(x_test_correct[IMG_IDX])\n",
    "\n",
    "ax2 = fig.add_subplot(1,2,2)\n",
    "ax2.set_title(\"Perturbed prob:{:.2f}\".format(study.best_value))\n",
    "ax2.imshow(best_img)\n",
    "print(f\"queries: {QUERY_COUNT}\")\n",
    "print(f\"L_inf: {Linf_dist}\")"
   ]
  },
  {
   "cell_type": "code",
   "execution_count": null,
   "id": "300ece2e-b0af-4156-82e3-e35af4997dc8",
   "metadata": {},
   "outputs": [],
   "source": [
    "# TODO: implement dynamic strategy, where Linf changes adaptively with the number of queries"
   ]
  },
  {
   "cell_type": "code",
   "execution_count": null,
   "id": "2f711808-8cac-4e49-b122-66fa3160ce41",
   "metadata": {},
   "outputs": [],
   "source": []
  }
 ],
 "metadata": {
  "kernelspec": {
   "display_name": "Python 3 (ipykernel)",
   "language": "python",
   "name": "python3"
  },
  "language_info": {
   "codemirror_mode": {
    "name": "ipython",
    "version": 3
   },
   "file_extension": ".py",
   "mimetype": "text/x-python",
   "name": "python",
   "nbconvert_exporter": "python",
   "pygments_lexer": "ipython3",
   "version": "3.7.11"
  }
 },
 "nbformat": 4,
 "nbformat_minor": 5
}
