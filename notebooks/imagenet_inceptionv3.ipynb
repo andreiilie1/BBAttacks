{
 "cells": [
  {
   "cell_type": "code",
   "execution_count": 1,
   "metadata": {},
   "outputs": [],
   "source": [
    "%matplotlib inline\n",
    "import sys, os, time\n",
    "# Select GPU\n",
    "os.environ[\"CUDA_DEVICE_ORDER\"]=\"PCI_BUS_ID\"\n",
    "os.environ[\"CUDA_VISIBLE_DEVICES\"]=\"0\"\n",
    "\n",
    "import numpy as np\n",
    "import matplotlib.pyplot as plt\n",
    "\n",
    "from tensorflow.keras import backend as K\n",
    "from tensorflow.keras.utils import to_categorical\n",
    "# from tensorflow.keras.applications.vgg19 import VGG19, preprocess_input\n",
    "# from tensorflow.keras.applications.mobilenet import preprocess_input, MobileNet\n",
    "# from tensorflow.keras.applications.resnet50 import preprocess_input, ResNet50\n",
    "\n",
    "from tensorflow.keras.applications.inception_v3 import InceptionV3\n",
    "from tensorflow.keras.applications.inception_v3 import preprocess_input"
   ]
  },
  {
   "cell_type": "code",
   "execution_count": 92,
   "metadata": {},
   "outputs": [],
   "source": [
    "BASE_PATH = \"/home/ailie/Repos/BBAttacks/data/\""
   ]
  },
  {
   "cell_type": "code",
   "execution_count": 3,
   "metadata": {},
   "outputs": [],
   "source": [
    "IMAGES_PATH = os.path.join(BASE_PATH, \"x_val_0_10000.npy\")\n",
    "LABELS_PATH = os.path.join(BASE_PATH, \"y_val.npy\")\n",
    "SYNSET_WORDS_PATH = os.path.join(BASE_PATH, \"synset_words.txt\")"
   ]
  },
  {
   "cell_type": "code",
   "execution_count": 11,
   "metadata": {},
   "outputs": [],
   "source": [
    "keras_idx_to_name = {}\n",
    "f = open(SYNSET_WORDS_PATH,\"r\")\n",
    "idx = 0\n",
    "for line in f:\n",
    "    parts = line.split(\" \")\n",
    "    keras_idx_to_name[idx] = \" \".join(parts[1:])\n",
    "    idx += 1\n",
    "f.close()"
   ]
  },
  {
   "cell_type": "code",
   "execution_count": 4,
   "metadata": {},
   "outputs": [],
   "source": [
    "x_val_raw = np.load(IMAGES_PATH) # loaded as RGB\n",
    "# didn't upload imagenet data here as it is too large, but it is publicl available\n",
    "# and the experiments are reproducible \n",
    "x_val = preprocess_input(x_val_raw.copy()) # converted to BGR"
   ]
  },
  {
   "cell_type": "code",
   "execution_count": 5,
   "metadata": {},
   "outputs": [],
   "source": [
    "y_val = np.load(LABELS_PATH)"
   ]
  },
  {
   "cell_type": "code",
   "execution_count": 6,
   "metadata": {},
   "outputs": [],
   "source": [
    "x_val2 = x_val[:1000].copy()\n",
    "y_val2 = y_val[:1000].copy()\n",
    "x_val_raw2 = x_val_raw.copy()"
   ]
  },
  {
   "cell_type": "code",
   "execution_count": 7,
   "metadata": {},
   "outputs": [],
   "source": [
    "del(x_val)\n",
    "del(y_val)\n",
    "del(x_val_raw)"
   ]
  },
  {
   "cell_type": "code",
   "execution_count": 8,
   "metadata": {},
   "outputs": [
    {
     "data": {
      "text/plain": [
       "22"
      ]
     },
     "execution_count": 8,
     "metadata": {},
     "output_type": "execute_result"
    }
   ],
   "source": [
    "import gc\n",
    "gc.collect()"
   ]
  },
  {
   "cell_type": "code",
   "execution_count": 9,
   "metadata": {},
   "outputs": [],
   "source": [
    "x_val = x_val2\n",
    "y_val = y_val2\n",
    "x_val_raw = x_val_raw2"
   ]
  },
  {
   "cell_type": "code",
   "execution_count": 10,
   "metadata": {},
   "outputs": [],
   "source": [
    "y_val_one_hot = to_categorical(y_val, 1000)"
   ]
  },
  {
   "cell_type": "code",
   "execution_count": 13,
   "metadata": {
    "collapsed": true,
    "jupyter": {
     "outputs_hidden": true
    },
    "tags": []
   },
   "outputs": [
    {
     "name": "stderr",
     "output_type": "stream",
     "text": [
      "2022-09-10 04:50:45.893769: I tensorflow/stream_executor/platform/default/dso_loader.cc:44] Successfully opened dynamic library libcuda.so.1\n",
      "2022-09-10 04:50:47.544440: I tensorflow/core/common_runtime/gpu/gpu_device.cc:1561] Found device 0 with properties: \n",
      "pciBusID: 0000:02:00.0 name: NVIDIA GeForce GTX 1080 Ti computeCapability: 6.1\n",
      "coreClock: 1.582GHz coreCount: 28 deviceMemorySize: 10.92GiB deviceMemoryBandwidth: 451.17GiB/s\n",
      "2022-09-10 04:50:47.544777: I tensorflow/stream_executor/platform/default/dso_loader.cc:44] Successfully opened dynamic library libcudart.so.10.1\n",
      "2022-09-10 04:50:47.547293: I tensorflow/stream_executor/platform/default/dso_loader.cc:44] Successfully opened dynamic library libcublas.so.10\n",
      "2022-09-10 04:50:47.549509: I tensorflow/stream_executor/platform/default/dso_loader.cc:44] Successfully opened dynamic library libcufft.so.10\n",
      "2022-09-10 04:50:47.549887: I tensorflow/stream_executor/platform/default/dso_loader.cc:44] Successfully opened dynamic library libcurand.so.10\n",
      "2022-09-10 04:50:47.552391: I tensorflow/stream_executor/platform/default/dso_loader.cc:44] Successfully opened dynamic library libcusolver.so.10\n",
      "2022-09-10 04:50:47.553772: I tensorflow/stream_executor/platform/default/dso_loader.cc:44] Successfully opened dynamic library libcusparse.so.10\n",
      "2022-09-10 04:50:47.558779: I tensorflow/stream_executor/platform/default/dso_loader.cc:44] Successfully opened dynamic library libcudnn.so.7\n",
      "2022-09-10 04:50:47.559224: I tensorflow/core/common_runtime/gpu/gpu_device.cc:1703] Adding visible gpu devices: 0\n",
      "2022-09-10 04:50:47.559924: I tensorflow/core/platform/cpu_feature_guard.cc:143] Your CPU supports instructions that this TensorFlow binary was not compiled to use: SSE4.1 SSE4.2 AVX AVX2 FMA\n",
      "2022-09-10 04:50:47.587598: I tensorflow/core/platform/profile_utils/cpu_utils.cc:102] CPU Frequency: 2997075000 Hz\n",
      "2022-09-10 04:50:47.589622: I tensorflow/compiler/xla/service/service.cc:168] XLA service 0x55843a61bb10 initialized for platform Host (this does not guarantee that XLA will be used). Devices:\n",
      "2022-09-10 04:50:47.589639: I tensorflow/compiler/xla/service/service.cc:176]   StreamExecutor device (0): Host, Default Version\n",
      "2022-09-10 04:50:47.589938: I tensorflow/core/common_runtime/gpu/gpu_device.cc:1561] Found device 0 with properties: \n",
      "pciBusID: 0000:02:00.0 name: NVIDIA GeForce GTX 1080 Ti computeCapability: 6.1\n",
      "coreClock: 1.582GHz coreCount: 28 deviceMemorySize: 10.92GiB deviceMemoryBandwidth: 451.17GiB/s\n",
      "2022-09-10 04:50:47.589971: I tensorflow/stream_executor/platform/default/dso_loader.cc:44] Successfully opened dynamic library libcudart.so.10.1\n",
      "2022-09-10 04:50:47.589991: I tensorflow/stream_executor/platform/default/dso_loader.cc:44] Successfully opened dynamic library libcublas.so.10\n",
      "2022-09-10 04:50:47.590008: I tensorflow/stream_executor/platform/default/dso_loader.cc:44] Successfully opened dynamic library libcufft.so.10\n",
      "2022-09-10 04:50:47.590024: I tensorflow/stream_executor/platform/default/dso_loader.cc:44] Successfully opened dynamic library libcurand.so.10\n",
      "2022-09-10 04:50:47.590040: I tensorflow/stream_executor/platform/default/dso_loader.cc:44] Successfully opened dynamic library libcusolver.so.10\n",
      "2022-09-10 04:50:47.590056: I tensorflow/stream_executor/platform/default/dso_loader.cc:44] Successfully opened dynamic library libcusparse.so.10\n",
      "2022-09-10 04:50:47.590073: I tensorflow/stream_executor/platform/default/dso_loader.cc:44] Successfully opened dynamic library libcudnn.so.7\n",
      "2022-09-10 04:50:47.590417: I tensorflow/core/common_runtime/gpu/gpu_device.cc:1703] Adding visible gpu devices: 0\n",
      "2022-09-10 04:50:47.590455: I tensorflow/stream_executor/platform/default/dso_loader.cc:44] Successfully opened dynamic library libcudart.so.10.1\n",
      "2022-09-10 04:50:47.755824: I tensorflow/core/common_runtime/gpu/gpu_device.cc:1102] Device interconnect StreamExecutor with strength 1 edge matrix:\n",
      "2022-09-10 04:50:47.755849: I tensorflow/core/common_runtime/gpu/gpu_device.cc:1108]      0 \n",
      "2022-09-10 04:50:47.755854: I tensorflow/core/common_runtime/gpu/gpu_device.cc:1121] 0:   N \n",
      "2022-09-10 04:50:47.756467: I tensorflow/core/common_runtime/gpu/gpu_device.cc:1247] Created TensorFlow device (/job:localhost/replica:0/task:0/device:GPU:0 with 10378 MB memory) -> physical GPU (device: 0, name: NVIDIA GeForce GTX 1080 Ti, pci bus id: 0000:02:00.0, compute capability: 6.1)\n",
      "2022-09-10 04:50:47.758303: I tensorflow/compiler/xla/service/service.cc:168] XLA service 0x55843ddc3540 initialized for platform CUDA (this does not guarantee that XLA will be used). Devices:\n",
      "2022-09-10 04:50:47.758317: I tensorflow/compiler/xla/service/service.cc:176]   StreamExecutor device (0): NVIDIA GeForce GTX 1080 Ti, Compute Capability 6.1\n"
     ]
    }
   ],
   "source": [
    "K.clear_session()\n",
    "# model = MobileNet()\n",
    "model = InceptionV3(include_top=True, weights='imagenet')"
   ]
  },
  {
   "cell_type": "code",
   "execution_count": 14,
   "metadata": {},
   "outputs": [],
   "source": [
    "RANDOM_SAMPLE_SIZE = 100\n",
    "RANDOM_SEED = 40"
   ]
  },
  {
   "cell_type": "code",
   "execution_count": 15,
   "metadata": {},
   "outputs": [],
   "source": [
    "import random\n",
    "random.seed(RANDOM_SEED)\n",
    "sample_indices = random.choices(range(len(x_val)), k=RANDOM_SAMPLE_SIZE)"
   ]
  },
  {
   "cell_type": "code",
   "execution_count": null,
   "metadata": {},
   "outputs": [],
   "source": [
    "plt.imshow(x_val_raw[458]/255)"
   ]
  },
  {
   "cell_type": "code",
   "execution_count": 16,
   "metadata": {},
   "outputs": [],
   "source": [
    "# sample_indices = range(500)\n",
    "y_val_one_hot_sample = y_val_one_hot[sample_indices]\n",
    "x_val_sample = x_val[sample_indices]\n",
    "x_val_raw_sample = x_val_raw[sample_indices]"
   ]
  },
  {
   "cell_type": "code",
   "execution_count": 17,
   "metadata": {},
   "outputs": [
    {
     "name": "stdout",
     "output_type": "stream",
     "text": [
      "WARNING:tensorflow:Model was constructed with shape (None, 299, 299, 3) for input Tensor(\"input_1:0\", shape=(None, 299, 299, 3), dtype=float32), but it was called on an input with incompatible shape (None, 224, 224, 3).\n"
     ]
    },
    {
     "name": "stderr",
     "output_type": "stream",
     "text": [
      "2022-09-10 04:50:53.285543: I tensorflow/stream_executor/platform/default/dso_loader.cc:44] Successfully opened dynamic library libcublas.so.10\n",
      "2022-09-10 04:50:53.407231: I tensorflow/stream_executor/platform/default/dso_loader.cc:44] Successfully opened dynamic library libcudnn.so.7\n"
     ]
    },
    {
     "name": "stdout",
     "output_type": "stream",
     "text": [
      "4/4 [==============================] - 0s 86ms/step\n"
     ]
    }
   ],
   "source": [
    "y_pred_sample = model.predict(x_val_sample, verbose=1)"
   ]
  },
  {
   "cell_type": "code",
   "execution_count": 12,
   "metadata": {},
   "outputs": [],
   "source": [
    "def top_k_accuracy(y_true, y_pred, k=1):\n",
    "    '''From: https://github.com/chainer/chainer/issues/606\n",
    "    \n",
    "    Expects both y_true and y_pred to be one-hot encoded.\n",
    "    '''\n",
    "    argsorted_y = np.argsort(y_pred)[:,-k:]\n",
    "    return np.any(argsorted_y.T == y_true.argmax(axis=1), axis=0).mean()"
   ]
  },
  {
   "cell_type": "code",
   "execution_count": 20,
   "metadata": {},
   "outputs": [
    {
     "data": {
      "text/plain": [
       "0.67"
      ]
     },
     "execution_count": 20,
     "metadata": {},
     "output_type": "execute_result"
    }
   ],
   "source": [
    "top_k_accuracy(y_val_one_hot_sample, y_pred_sample, k=1)"
   ]
  },
  {
   "cell_type": "code",
   "execution_count": 21,
   "metadata": {},
   "outputs": [
    {
     "data": {
      "text/plain": [
       "0.9"
      ]
     },
     "execution_count": 21,
     "metadata": {},
     "output_type": "execute_result"
    }
   ],
   "source": [
    "top_k_accuracy(y_val_one_hot_sample, y_pred_sample, k=5)"
   ]
  },
  {
   "cell_type": "code",
   "execution_count": 22,
   "metadata": {},
   "outputs": [],
   "source": [
    "indices = []\n",
    "agreements = np.argmax(y_pred_sample, axis=1) == np.argmax(y_val_one_hot_sample, axis=1)\n",
    "for x in range(len(agreements)):\n",
    "    if agreements[x]:\n",
    "        indices.append(x)"
   ]
  },
  {
   "cell_type": "code",
   "execution_count": 23,
   "metadata": {},
   "outputs": [],
   "source": [
    "# y_val_one_hot_sample = y_val_one_hot_sample[indices][:100]\n",
    "# x_val_sample = x_val_sample[indices][:100]\n",
    "# x_val_raw_sample = x_val_raw_sample[indices][:100]"
   ]
  },
  {
   "cell_type": "code",
   "execution_count": null,
   "metadata": {},
   "outputs": [],
   "source": []
  },
  {
   "cell_type": "code",
   "execution_count": 24,
   "metadata": {},
   "outputs": [],
   "source": [
    "from tensorflow.keras.datasets import mnist\n",
    "import numpy as np\n",
    "import matplotlib.pyplot as plt\n",
    "import pandas as pd\n",
    "import random\n",
    "from tensorflow import keras\n",
    "from tensorflow.keras import Sequential\n",
    "from tensorflow.keras.layers import Conv2D, Dropout, MaxPooling2D, Dense, Flatten, BatchNormalization\n",
    "import importlib\n",
    "import tensorflow as tf"
   ]
  },
  {
   "cell_type": "code",
   "execution_count": 66,
   "metadata": {},
   "outputs": [],
   "source": [
    "import sys\n",
    "sys.path.append(\"/home/ailie/Repos/BBAttacks/attacks/\")\n",
    "sys.path.append(\"/home/ailie/Repos/BBAttacks/utils/\")\n",
    "\n",
    "import utils\n",
    "from data_manager import load_data\n",
    "\n",
    "# Black Box Attacks\n",
    "import random_noise\n",
    "import EvoStrategyUniformProbs\n",
    "import SimbaWrapper"
   ]
  },
  {
   "cell_type": "markdown",
   "metadata": {},
   "source": [
    "<h3>Random attack</h3>"
   ]
  },
  {
   "cell_type": "markdown",
   "metadata": {},
   "source": [
    "<h4>Debugging the random attack</h4>"
   ]
  },
  {
   "cell_type": "code",
   "execution_count": 67,
   "metadata": {},
   "outputs": [],
   "source": [
    "# agreements_cell_test"
   ]
  },
  {
   "cell_type": "code",
   "execution_count": 68,
   "metadata": {},
   "outputs": [],
   "source": [
    "# np.argmax(y_pred_sample, axis=1) == np.argmax(y_val_one_hot_sample, axis=1)"
   ]
  },
  {
   "cell_type": "code",
   "execution_count": 69,
   "metadata": {},
   "outputs": [],
   "source": [
    "# plt.imshow(saved_noisy_imgs_cell_test[0])\n",
    "# print(\"correct label:\", y_val[0])\n",
    "# print(\"after:\", np.argmax(model.predict(np.expand_dims(saved_noisy_imgs_cell_test[0],0)), axis=1)[0])\n",
    "# print(\"initially:\", np.argmax(model.predict(np.expand_dims(x_val[0],0)), axis=1)[0])"
   ]
  },
  {
   "cell_type": "markdown",
   "metadata": {},
   "source": [
    "<h3>Evolutionary attack</h3>"
   ]
  },
  {
   "cell_type": "markdown",
   "metadata": {},
   "source": []
  },
  {
   "cell_type": "code",
   "execution_count": 71,
   "metadata": {},
   "outputs": [],
   "source": [
    "from tqdm import tqdm"
   ]
  },
  {
   "cell_type": "code",
   "execution_count": 72,
   "metadata": {},
   "outputs": [
    {
     "name": "stderr",
     "output_type": "stream",
     "text": [
      "100%|█████████████████████████████████████████████████████████████████████████████████████████████████████████████████████████████| 50/50 [05:42<00:00,  6.84s/it]\n"
     ]
    }
   ],
   "source": [
    "importlib.reload(EvoStrategyUniformProbs)\n",
    "perturbed_images = 0\n",
    "adv_evo_strategy = {}\n",
    "for index in tqdm(range(0,50)):\n",
    "#     print()\n",
    "#     print(index)\n",
    "    img = x_val_raw_sample[index]\n",
    "#     print(img)\n",
    "    label = np.argmax(y_val_one_hot_sample[index])\n",
    "    adv_evo_strategy[index] = EvoStrategyUniformProbs.AdversarialPerturbationEvoStraegy(\n",
    "        model=model,\n",
    "        img=img,\n",
    "        label=label,\n",
    "        generation_size=15, \n",
    "        one_step_perturbation_pixel_count=1,\n",
    "        verbose=False,\n",
    "        zero_one_scale=False,\n",
    "        range_scale_int=True,\n",
    "#         max_rand=int(x_val.max()),\n",
    "#         min_rand=int(x_val.min())\n",
    "        preprocess = preprocess_input\n",
    "    )\n",
    "    no_steps = adv_evo_strategy[index].run_adversarial_attack(steps=1000)\n",
    "    if adv_evo_strategy[index].is_perturbed() and no_steps > 0:\n",
    "        perturbed_images += 1"
   ]
  },
  {
   "cell_type": "code",
   "execution_count": 84,
   "metadata": {},
   "outputs": [
    {
     "data": {
      "text/plain": [
       "(224, 224, 3)"
      ]
     },
     "execution_count": 84,
     "metadata": {},
     "output_type": "execute_result"
    }
   ],
   "source": [
    "np.shape(x_val_raw_sample[0])"
   ]
  },
  {
   "cell_type": "code",
   "execution_count": 89,
   "metadata": {
    "collapsed": true,
    "jupyter": {
     "outputs_hidden": true
    },
    "tags": []
   },
   "outputs": [
    {
     "name": "stdout",
     "output_type": "stream",
     "text": [
      "3.423331705729167\n",
      "4.000403789445466\n",
      "5.115678615196078\n",
      "10.842918007046569\n",
      "7.583658854166667\n",
      "8.778058938419118\n",
      "0.0\n",
      "7.656060910692402\n",
      "4.578708065257353\n",
      "0.0\n",
      "2.845589192708333\n",
      "0.0\n",
      "9.276169960171568\n",
      "0.0\n",
      "5.413813093596814\n",
      "0.0\n",
      "8.085151462928922\n",
      "11.758141850490196\n",
      "2.5397750555300247\n",
      "2.5759959501378678\n",
      "0.0\n",
      "8.175011488970588\n",
      "0.0\n",
      "5.270325425091912\n",
      "5.366815544577205\n",
      "5.756228458180147\n",
      "4.312252987132353\n",
      "0.0\n",
      "12.049950214460784\n",
      "5.537902113970588\n",
      "0.0\n",
      "7.907203105851716\n",
      "6.325018669577206\n",
      "3.061740770526961\n",
      "0.0\n",
      "5.830818684895833\n",
      "17.162591911764707\n",
      "0.0\n",
      "15.814234834558823\n",
      "0.0\n",
      "0.0\n",
      "0.0\n",
      "11.032848881740197\n",
      "8.475209673713236\n",
      "0.0\n",
      "0.0\n",
      "5.02354616651348\n",
      "1.8776206820618873\n",
      "5.341319125306373\n",
      "4.045876895680147\n"
     ]
    }
   ],
   "source": [
    "idx=10\n",
    "total_l2 = 0\n",
    "for idx in range(50):\n",
    "    curr_l2 = np.sqrt(np.sum((adv_evo_strategy[idx].get_best_candidate() - x_val_raw_sample[idx]) ** 2)) / 255\n",
    "    total_l2 += curr_l2\n",
    "    print(curr_l2)"
   ]
  },
  {
   "cell_type": "code",
   "execution_count": 91,
   "metadata": {},
   "outputs": [
    {
     "data": {
      "text/plain": [
       "9.280929969949405e-05"
      ]
     },
     "execution_count": 91,
     "metadata": {},
     "output_type": "execute_result"
    }
   ],
   "source": [
    "total_l2 / 50 / (224 * 224)"
   ]
  },
  {
   "cell_type": "code",
   "execution_count": 73,
   "metadata": {},
   "outputs": [],
   "source": [
    "evoba_stats = utils.get_evoba_stats(adv_evo_strategy)"
   ]
  },
  {
   "cell_type": "code",
   "execution_count": 74,
   "metadata": {},
   "outputs": [
    {
     "name": "stdout",
     "output_type": "stream",
     "text": [
      "\n",
      "EvoBA STATS (L0 attack)\n",
      "____________________\n",
      "Perturbed successfully 50/50 images\n",
      "Average query count: 1198.3\n",
      "Average l0 distance: 238.26\n",
      "\n",
      "Median query count: 496.0\n",
      "Median l0 dist: 98.5\n",
      "\n",
      "Max query count: 9211\n",
      "Max l0 dist: 1822\n",
      "____________________\n",
      "\n"
     ]
    }
   ],
   "source": [
    "utils.print_evoba_stats(evoba_stats)"
   ]
  },
  {
   "cell_type": "code",
   "execution_count": null,
   "metadata": {},
   "outputs": [],
   "source": [
    "# importlib.reload(EvoStrategy)\n",
    "# # perturbed_images = 0\n",
    "# # adv_evo_strategy = {}\n",
    "# for index in range(50,100):\n",
    "#     print()\n",
    "#     print(index)\n",
    "#     img = x_val_raw_sample[index]\n",
    "# #     print(img)\n",
    "#     label = np.argmax(y_val_one_hot_sample[index])\n",
    "#     adv_evo_strategy[index] = EvoStrategy.AdversarialPerturbationEvoStraegy(\n",
    "#         model=model,\n",
    "#         img=img,\n",
    "#         label=label,\n",
    "#         generation_size=20, \n",
    "#         one_step_perturbation_pixel_count=1,\n",
    "#         verbose=True,\n",
    "#         zero_one_scale=False,\n",
    "#         range_scale_int=True,\n",
    "# #         max_rand=int(x_val.max()),\n",
    "# #         min_rand=int(x_val.min())\n",
    "#         preprocess = preprocess_input\n",
    "#     )\n",
    "#     no_steps = adv_evo_strategy[index].run_adversarial_attack(steps=1000)\n",
    "#     if adv_evo_strategy[index].stop_criterion() and no_steps > 0:\n",
    "#         perturbed_images += 1"
   ]
  },
  {
   "cell_type": "code",
   "execution_count": null,
   "metadata": {},
   "outputs": [],
   "source": [
    "for index in range(50):\n",
    "    if not adv_evo_strategy[index].stop_criterion():\n",
    "        print(index)"
   ]
  },
  {
   "cell_type": "code",
   "execution_count": null,
   "metadata": {},
   "outputs": [],
   "source": [
    "count_q = 0\n",
    "sum_q = 0\n",
    "query_list = []\n",
    "fair_indices = []\n",
    "for index in range(50):\n",
    "    if(adv_evo_strategy[index].queries > 1):\n",
    "        count_q +=1\n",
    "        sum_q += adv_evo_strategy[index].queries\n",
    "        query_list.append(adv_evo_strategy[index].queries)\n",
    "        fair_indices.append(index)\n",
    "        \n",
    "print(\"Average queries for EVO algo:\", sum_q/count_q)\n",
    "print(\"Total count of perturbed images (classified correctly initially):\", perturbed_images)"
   ]
  },
  {
   "cell_type": "code",
   "execution_count": null,
   "metadata": {},
   "outputs": [],
   "source": [
    "np.median(query_list)"
   ]
  },
  {
   "cell_type": "code",
   "execution_count": null,
   "metadata": {},
   "outputs": [],
   "source": [
    "np.mean(query_list)"
   ]
  },
  {
   "cell_type": "code",
   "execution_count": null,
   "metadata": {},
   "outputs": [],
   "source": [
    "plt.hist(query_list)"
   ]
  },
  {
   "cell_type": "code",
   "execution_count": null,
   "metadata": {},
   "outputs": [],
   "source": [
    "plt.rcParams.update({'font.size': 22})\n",
    "plt.figure(figsize=(12,8))\n",
    "plt.title(\"Query histogram for EvoBA(1, 15) on ImageNet\", fontdict={\"size\":22})\n",
    "plt.hist(query_list)\n",
    "plt.show()"
   ]
  },
  {
   "cell_type": "code",
   "execution_count": null,
   "metadata": {},
   "outputs": [],
   "source": [
    "import math\n",
    "from tqdm import tqdm\n",
    "l0_dists = []\n",
    "for index_diff in tqdm(fair_indices):\n",
    "    diff = np.abs(adv_evo_strategy[index_diff].get_best_candidate() - x_val_raw_sample[index_diff])\n",
    "#     diff = np.reshape(diff, (32, 32, 3))\n",
    "    diff = (diff!=0)\n",
    "    l0_dist = np.sum(diff)\n",
    "    l0_dists.append(l0_dist)\n",
    "#     print(\"L2 distance:\", math.sqrt(np.sum(np.reshape(diff, (-1))**2)))\n",
    "#     plt.imshow(np.reshape(adv_evo_strategy[index_diff].get_best_candidate(), (28, 28)))\n",
    "#     plt.show()\n",
    "#     print(\"Prediction:\", model.predict(np.array([adv_evo_strategy[index_diff].get_best_candidate()])))"
   ]
  },
  {
   "cell_type": "code",
   "execution_count": null,
   "metadata": {},
   "outputs": [],
   "source": [
    "np.median(l0_dists)"
   ]
  },
  {
   "cell_type": "code",
   "execution_count": null,
   "metadata": {},
   "outputs": [],
   "source": [
    "plt.hist(queries)"
   ]
  },
  {
   "cell_type": "code",
   "execution_count": null,
   "metadata": {},
   "outputs": [],
   "source": [
    "np.median(l2_dists)/255"
   ]
  },
  {
   "cell_type": "code",
   "execution_count": null,
   "metadata": {},
   "outputs": [],
   "source": [
    "plt.rcParams.update({'font.size': 22})\n",
    "plt.figure(figsize=(12,8))\n",
    "plt.title(\"L0 histogram for EvoBA(1, 15) on ImageNet\", fontdict={\"size\":22})\n",
    "plt.hist(l0_dists)\n",
    "plt.show()"
   ]
  },
  {
   "cell_type": "code",
   "execution_count": null,
   "metadata": {},
   "outputs": [],
   "source": []
  },
  {
   "cell_type": "code",
   "execution_count": null,
   "metadata": {},
   "outputs": [],
   "source": [
    "import math\n",
    "l2_dists = []\n",
    "for index_diff in tqdm(fair_indices):\n",
    "    diff = np.abs(adv_evo_strategy[index_diff].get_best_candidate() - x_val_raw_sample[index_diff])\n",
    "#     diff = np.reshape(diff, (32, 32, 3))\n",
    "    l2_dist = math.sqrt(np.sum(np.reshape(diff, (-1))**2))\n",
    "    l2_dists.append(l2_dist)\n",
    "#     print(\"L2 distance:\", math.sqrt(np.sum(np.reshape(diff, (-1))**2)))\n",
    "#     plt.imshow(np.reshape(adv_evo_strategy[index_diff].get_best_candidate(), (28, 28)))\n",
    "#     plt.show()\n",
    "#     print(\"Prediction:\", model.predict(np.array([adv_evo_strategy[index_diff].get_best_candidate()])))"
   ]
  },
  {
   "cell_type": "code",
   "execution_count": null,
   "metadata": {},
   "outputs": [],
   "source": [
    "np.shape(x_val_sample[0])"
   ]
  },
  {
   "cell_type": "code",
   "execution_count": null,
   "metadata": {},
   "outputs": [],
   "source": [
    "np.mean(l2_dists)/255"
   ]
  },
  {
   "cell_type": "code",
   "execution_count": null,
   "metadata": {},
   "outputs": [],
   "source": [
    "np.mean(l2_dists)/(255 * 224 * 224 * 3)"
   ]
  },
  {
   "cell_type": "code",
   "execution_count": null,
   "metadata": {},
   "outputs": [],
   "source": [
    "w=10\n",
    "h=10\n",
    "fig=plt.figure(figsize=(20, 9))\n",
    "fig.tight_layout()\n",
    "plt.subplots_adjust(top = 0.99, bottom=0.01, hspace=0.1, wspace=0.2)\n",
    "\n",
    "columns = 5\n",
    "rows = 2\n",
    "img_curr = 0\n",
    "for i in range(1, columns + 1):\n",
    "    img_indx = fair_indices[imgss[img_curr]]\n",
    "    initial = (keras_idx_to_name[adv_evo_strategy[img_indx].label])\n",
    "    if len(initial) > 30:\n",
    "        initial = initial[:21] + \"\\n\" + initial[21:]\n",
    "    fig.add_subplot(rows, columns, i)\n",
    "    plt.title(f\"Original, \\n {initial}\", fontdict={\"size\":18})\n",
    "    img_start = adv_evo_strategy[img_indx].img.astype(int)\n",
    "    plt.imshow(img_start)\n",
    "    \n",
    "    fig.add_subplot(rows, columns, i + 5)\n",
    "    \n",
    "    img_final = adv_evo_strategy[img_indx].get_best_candidate().astype(int)\n",
    "    predss = model.predict(np.expand_dims(img_final, axis=0))[0]\n",
    "    predicted = np.argmax(predss)\n",
    "    diff = math.sqrt(np.sum((img_final - img_start) **2))\n",
    "    l2_distance = int((diff/(255)) * 100)/100\n",
    "    l0_distance = (img_start != img_final).sum()\n",
    "    final = (keras_idx_to_name[predicted])\n",
    "    plt.title(f\"Perturbed, \\n {final} L2 distance:{l2_distance}\\n L0 distance:{l0_distance}\", fontdict={\"size\":18})\n",
    "    plt.imshow(img_final)\n",
    "    img_curr += 1\n",
    "plt.show()"
   ]
  },
  {
   "cell_type": "code",
   "execution_count": null,
   "metadata": {},
   "outputs": [],
   "source": [
    "for index_diff in tqdm(np.array(fair_indices)[imgss]):\n",
    "    print(index_diff)\n",
    "    initial = (keras_idx_to_name[adv_evo_strategy[index_diff].label])\n",
    "    img = adv_evo_strategy[index_diff].get_best_candidate().astype(int)\n",
    "    plt.imshow(img.astype(int))\n",
    "    predicted = (np.argmax(model.predict(np.expand_dims(img, axis=0))[0]))\n",
    "    final = (keras_idx_to_name[predicted])\n",
    "    plt.show()"
   ]
  },
  {
   "cell_type": "code",
   "execution_count": null,
   "metadata": {},
   "outputs": [],
   "source": []
  },
  {
   "cell_type": "code",
   "execution_count": null,
   "metadata": {},
   "outputs": [],
   "source": [
    "importlib.reload(EvoStrategy)\n",
    "from tqdm import tqdm\n",
    "perturbed_images_bf = 0\n",
    "adv_evo_strategy_bf = {}\n",
    "for index in tqdm(range(len(x_val_sample))):\n",
    "    if index % 10 == 0:\n",
    "        verbose = True\n",
    "    else:\n",
    "        verbose = False\n",
    "    img = x_val_sample[index]\n",
    "    label = np.argmax(y_val_one_hot_sample[index])\n",
    "    adv_evo_strategy_bf[index] = EvoStrategy.AdversarialPerturbationBFStraegy(\n",
    "        model=model,\n",
    "        img=img,\n",
    "        label=label,\n",
    "        generation_size=20, \n",
    "        one_step_perturbation_pixel_count=5,\n",
    "        verbose=verbose\n",
    "    )\n",
    "    no_steps_bf = adv_evo_strategy_bf[index].run_adversarial_attack(steps=100)\n",
    "    if adv_evo_strategy_bf[index].stop_criterion() and no_steps_bf > 0:\n",
    "        perturbed_images_bf += 1\n",
    "    adv_evo_strategy_bf[index].active_generation = []\n",
    "    adv_evo_strategy_bf[index].fitness_scores = []\n",
    "    gc.collect()"
   ]
  },
  {
   "cell_type": "code",
   "execution_count": null,
   "metadata": {},
   "outputs": [],
   "source": [
    "count_q_bf = 0\n",
    "sum_q_bf = 0\n",
    "for index in tqdm(range(len(x_val_sample))):\n",
    "    if(adv_evo_strategy_bf[index].queries > 1):\n",
    "        count_q_bf +=1\n",
    "        sum_q_bf += adv_evo_strategy_bf[index].queries\n",
    "        \n",
    "print(\"Average queries for EVO algo:\", sum_q_bf/count_q_bf)\n",
    "print(\"Total count of perturbed images (classified correctly initially):\", perturbed_images_bf)"
   ]
  },
  {
   "cell_type": "code",
   "execution_count": null,
   "metadata": {},
   "outputs": [],
   "source": [
    "671/len(x_val_sample)"
   ]
  },
  {
   "cell_type": "code",
   "execution_count": null,
   "metadata": {},
   "outputs": [],
   "source": [
    "import math\n",
    "from tqdm import tqdm\n",
    "l2_dists = []\n",
    "for index_diff in tqdm(range(50)):\n",
    "    diff = np.abs(adv_evo_strategy[index_diff].get_best_candidate() - x_val_sample[index_diff])\n",
    "#     diff = np.reshape(diff, (32, 32, 3))\n",
    "    l2_dist = math.sqrt(np.sum(np.reshape(diff, (-1))**2))\n",
    "    l2_dists.append(l2_dist)\n",
    "#     print(\"L2 distance:\", math.sqrt(np.sum(np.reshape(diff, (-1))**2)))\n",
    "#     plt.imshow(np.reshape(adv_evo_strategy[index_diff].get_best_candidate(), (28, 28)))\n",
    "#     plt.show()\n",
    "#     print(\"Prediction:\", model.predict(np.array([adv_evo_strategy[index_diff].get_best_candidate()])))"
   ]
  },
  {
   "cell_type": "code",
   "execution_count": null,
   "metadata": {},
   "outputs": [],
   "source": [
    "np.shape(x_val_sample[0])"
   ]
  },
  {
   "cell_type": "code",
   "execution_count": null,
   "metadata": {},
   "outputs": [],
   "source": [
    "np.mean(l2_dists)/(255 * 224 * 224)"
   ]
  },
  {
   "cell_type": "code",
   "execution_count": null,
   "metadata": {},
   "outputs": [],
   "source": [
    "importlib.reload(EvoStrategy)\n",
    "# TODO: add per channel perturbation, verify that it succeeds faster\n",
    "# TODO: momentum approach\n",
    "perturbed_images = 0\n",
    "adv_evo_strategy = {}\n",
    "for index in range(100):\n",
    "    print()\n",
    "    print(index)\n",
    "    img = x_val_sample[index]\n",
    "    label = np.argmax(y_val_one_hot_sample[index])\n",
    "    adv_evo_strategy[index] = EvoStrategy.AdversarialPerturbationEvoStraegy(\n",
    "        model=model,\n",
    "        img=img,\n",
    "        label=label,\n",
    "        generation_size=20, \n",
    "        one_step_perturbation_pixel_count=10\n",
    "    )\n",
    "    no_steps = adv_evo_strategy[index].run_adversarial_attack(steps=50)\n",
    "    if adv_evo_strategy[index].stop_criterion() and no_steps > 0:\n",
    "        perturbed_images += 1"
   ]
  },
  {
   "cell_type": "code",
   "execution_count": null,
   "metadata": {},
   "outputs": [],
   "source": [
    "count_q = 0\n",
    "sum_q = 0\n",
    "for index in range(0,100):\n",
    "    if(adv_evo_strategy[index].queries > 1):\n",
    "        count_q +=1\n",
    "        sum_q += adv_evo_strategy[index].queries\n",
    "        \n",
    "print(\"Average queries for EVO algo:\", sum_q/count_q)\n",
    "print(\"Total count of perturbed images (classified correctly initially):\", perturbed_images)"
   ]
  },
  {
   "cell_type": "code",
   "execution_count": null,
   "metadata": {},
   "outputs": [],
   "source": [
    "importlib.reload(EvoStrategy)\n",
    "import gc\n",
    "# TODO: add per channel perturbation, verify that it succeeds faster\n",
    "# TODO: momentum approach\n",
    "perturbed_images = 0\n",
    "adv_evo_strategy = {}\n",
    "for index in range(100):\n",
    "    print()\n",
    "    print(index)\n",
    "    img = x_val_sample[index]\n",
    "    label = np.argmax(y_val_one_hot_sample[index])\n",
    "    adv_evo_strategy[index] = EvoStrategy.AdversarialPerturbationEvoStraegy(\n",
    "        model=model,\n",
    "        img=img,\n",
    "        label=label,\n",
    "        generation_size=50, \n",
    "        one_step_perturbation_pixel_count=10\n",
    "    )\n",
    "    no_steps = adv_evo_strategy[index].run_adversarial_attack(steps=40)\n",
    "    if adv_evo_strategy[index].stop_criterion() and no_steps > 0:\n",
    "        perturbed_images += 1\n",
    "    gc.collect()"
   ]
  },
  {
   "cell_type": "code",
   "execution_count": null,
   "metadata": {},
   "outputs": [],
   "source": [
    "count_q = 0\n",
    "sum_q = 0\n",
    "for index in range(0,100):\n",
    "    if(adv_evo_strategy[index].queries > 1):\n",
    "        count_q +=1\n",
    "        sum_q += adv_evo_strategy[index].queries\n",
    "        \n",
    "print(\"Average queries for EVO algo:\", sum_q/count_q)\n",
    "print(\"Total count of perturbed images (classified correctly initially):\", perturbed_images)"
   ]
  },
  {
   "cell_type": "code",
   "execution_count": null,
   "metadata": {},
   "outputs": [],
   "source": [
    "print(\"HERE\")"
   ]
  },
  {
   "cell_type": "code",
   "execution_count": null,
   "metadata": {},
   "outputs": [],
   "source": [
    "importlib.reload(SimbaWrapper)\n",
    "simba_wrapper = SimbaWrapper.SimbaWrapper(model, x_val_sample, y_val_one_hot_sample, 0.1, max_queries=2000, max_l0_distance=150)"
   ]
  },
  {
   "cell_type": "code",
   "execution_count": null,
   "metadata": {},
   "outputs": [],
   "source": [
    "simba_wrapper.run_simba()"
   ]
  },
  {
   "cell_type": "code",
   "execution_count": null,
   "metadata": {},
   "outputs": [],
   "source": [
    "simba_wrapper.X_modified[0].min()"
   ]
  },
  {
   "cell_type": "code",
   "execution_count": null,
   "metadata": {},
   "outputs": [],
   "source": [
    "x_val_sample[0].min()"
   ]
  },
  {
   "cell_type": "code",
   "execution_count": null,
   "metadata": {},
   "outputs": [],
   "source": []
  }
 ],
 "metadata": {
  "kernelspec": {
   "display_name": "Python 3 (ipykernel)",
   "language": "python",
   "name": "python3"
  },
  "language_info": {
   "codemirror_mode": {
    "name": "ipython",
    "version": 3
   },
   "file_extension": ".py",
   "mimetype": "text/x-python",
   "name": "python",
   "nbconvert_exporter": "python",
   "pygments_lexer": "ipython3",
   "version": "3.7.11"
  }
 },
 "nbformat": 4,
 "nbformat_minor": 4
}
