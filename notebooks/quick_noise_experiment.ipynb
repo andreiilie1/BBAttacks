{
 "cells": [
  {
   "cell_type": "code",
   "execution_count": null,
   "metadata": {},
   "outputs": [],
   "source": [
    "from tensorflow.keras.datasets import mnist\n",
    "import numpy as np\n",
    "import matplotlib.pyplot as plt\n",
    "import pandas as pd\n",
    "import random\n",
    "from tensorflow import keras\n",
    "from tensorflow.keras import Sequential\n",
    "from tensorflow.keras.layers import Conv2D, Dropout, MaxPooling2D, Dense, Flatten, BatchNormalization\n",
    "import importlib\n",
    "import tensorflow as tf\n",
    "\n",
    "import sys\n",
    "sys.path.append(\"../attacks/\")\n",
    "sys.path.append(\"../utils/\")\n",
    "\n",
    "import utils\n",
    "from data_manager import load_data\n",
    "\n",
    "# Black Box Attacks\n",
    "import random_noise\n",
    "import EvoStrategy\n",
    "import SimbaWrapper"
   ]
  },
  {
   "cell_type": "markdown",
   "metadata": {},
   "source": [
    "Only run train below if model is not available as .h5 file (in general, a baseline model should be available in 'basic_cnn_mnist.h5' to save time)"
   ]
  },
  {
   "cell_type": "code",
   "execution_count": null,
   "metadata": {},
   "outputs": [],
   "source": [
    "# batch_size = 60 \n",
    "# nb_epoch = 2\n",
    "# input_shape = (28,28,1)\n",
    "# model_ = Sequential()\n",
    "# model_.add(Conv2D(100,kernel_size=(3, 3), activation='relu',padding='same', input_shape=input_shape))\n",
    "# model_.add(MaxPooling2D(pool_size=(2, 2)))\n",
    "# #model_.add(BatchNormalization())\n",
    "# #model_.add(Dropout(0.2))\n",
    "\n",
    "# model_.add(Conv2D(75, kernel_size=(3, 3),activation='relu',padding='same') )\n",
    "# model_.add(MaxPooling2D(pool_size=(2, 2)))\n",
    "# #model_.add(BatchNormalization())\n",
    "# #model_.add(Dropout(0.2))\n",
    "\n",
    "# model_.add(Dropout(0.25))\n",
    "# model_.add(Flatten())\n",
    "# model_.add(Dense(64, activation='relu'))\n",
    "# model_.add(Dropout(0.5))\n",
    "# model_.add(Dense(10, activation='softmax'))\n",
    "\n",
    "# model_.compile(loss=keras.losses.categorical_crossentropy,\n",
    "#               optimizer='adam',\n",
    "#               metrics=['accuracy'])\n"
   ]
  },
  {
   "cell_type": "code",
   "execution_count": null,
   "metadata": {},
   "outputs": [],
   "source": [
    "(X_train, y_train), (X_test, y_test) = load_data(\"mnist\")"
   ]
  },
  {
   "cell_type": "code",
   "execution_count": null,
   "metadata": {},
   "outputs": [],
   "source": [
    "# history=model_.fit(X_train, y_train,\n",
    "#           batch_size=batch_size,\n",
    "#           epochs=nb_epoch,\n",
    "#           verbose=1,\n",
    "#           validation_data=(X_test, y_test))\n",
    "# score = model_.evaluate(X_test, y_test, verbose=0)"
   ]
  },
  {
   "cell_type": "code",
   "execution_count": null,
   "metadata": {},
   "outputs": [],
   "source": [
    "# model_.save(\"basic_cnn_mnist.h5\")"
   ]
  },
  {
   "cell_type": "code",
   "execution_count": null,
   "metadata": {},
   "outputs": [],
   "source": [
    "model_ = tf.keras.models.load_model('../models/basic_cnn_mnist.h5')"
   ]
  },
  {
   "cell_type": "code",
   "execution_count": null,
   "metadata": {},
   "outputs": [],
   "source": [
    "sample_size_test_mnist = 100\n",
    "sample_x_test = np.copy(X_test[:sample_size_test_mnist])\n",
    "sample_y_test = np.copy(y_test[:sample_size_test_mnist])"
   ]
  },
  {
   "cell_type": "code",
   "execution_count": null,
   "metadata": {},
   "outputs": [],
   "source": [
    "sample_size_train_mnist = 100\n",
    "sample_x_train = np.copy(X_train[:sample_size_train_mnist])\n",
    "sample_y_train = np.copy(y_train[:sample_size_train_mnist])"
   ]
  },
  {
   "cell_type": "markdown",
   "metadata": {},
   "source": [
    "<h3>Random noise expriments</h3>"
   ]
  },
  {
   "cell_type": "code",
   "execution_count": null,
   "metadata": {},
   "outputs": [],
   "source": [
    "importlib.reload(random_noise)\n",
    "\n",
    "agreements_cell_test, saved_noisy_imgs_cell_test, number_queries = random_noise.check_noise_robustness_multiple_rounds(\n",
    "    model_,                  # model to attack\n",
    "    sample_x_test,           # sample images to attack\n",
    "    sample_y_test,           # correct labels of the sample images\n",
    "    20,                      # max number of steps to run the attack for\n",
    "    noise_type=\"cells\",      # 'cells' by default, it is gaussian noise added to a random set of pixels\n",
    "    args={\"cell_count\":28}   # 'cell_count' is how many pixels to randomly perturb at maximum; so l0 distance <= cell_count value\n",
    ")"
   ]
  },
  {
   "cell_type": "code",
   "execution_count": null,
   "metadata": {},
   "outputs": [],
   "source": [
    "# number_queries is a dict containing pairs img_id: number_steps_to_perturb. 0 means it was already classified wrong\n",
    "plt.hist(number_queries.values())"
   ]
  },
  {
   "cell_type": "markdown",
   "metadata": {},
   "source": [
    "<h3>Evo strategy experiments</h3>"
   ]
  },
  {
   "cell_type": "code",
   "execution_count": null,
   "metadata": {},
   "outputs": [],
   "source": [
    "importlib.reload(EvoStrategy)\n",
    "\n",
    "perturbed_images = 0\n",
    "adv_evo_strategy = {}\n",
    "for index in range(0,100):\n",
    "    print()\n",
    "    print(index)\n",
    "    img = sample_x_test[index]\n",
    "    label = np.argmax(sample_y_test[index])\n",
    "    adv_evo_strategy[index] = EvoStrategy.AdversarialPerturbationEvoStraegy(model=model_,img=img,label=label,generation_size=25)\n",
    "    no_steps = adv_evo_strategy[index].run_adversarial_attack()\n",
    "    if adv_evo_strategy[index].stop_criterion() and no_steps > 0:\n",
    "        perturbed_images += 1"
   ]
  },
  {
   "cell_type": "code",
   "execution_count": null,
   "metadata": {},
   "outputs": [],
   "source": [
    "count_q = 0\n",
    "sum_q = 0\n",
    "for index in range(0,100):\n",
    "    if(adv_evo_strategy[index].queries > 1):\n",
    "        count_q +=1\n",
    "        sum_q += adv_evo_strategy[index].queries\n",
    "        \n",
    "print(\"Average queries for EVO algo:\", sum_q/count_q)\n",
    "print(\"Total count of perturbed images (classified correctly initially):\", perturbed_images)"
   ]
  },
  {
   "cell_type": "markdown",
   "metadata": {},
   "source": [
    "<h3>SimBA pixel experiments</h3>"
   ]
  },
  {
   "cell_type": "code",
   "execution_count": null,
   "metadata": {},
   "outputs": [],
   "source": [
    "importlib.reload(simba_pixel)\n",
    "simba_wrapper = simba_pixel.SimbaWrapper(model_, sample_x_test, sample_y_test, 64, 2000)"
   ]
  },
  {
   "cell_type": "code",
   "execution_count": null,
   "metadata": {},
   "outputs": [],
   "source": [
    "simba_wrapper.run_simba()"
   ]
  },
  {
   "cell_type": "code",
   "execution_count": null,
   "metadata": {},
   "outputs": [],
   "source": [
    "simba_wrapper.perturbed"
   ]
  },
  {
   "cell_type": "code",
   "execution_count": null,
   "metadata": {},
   "outputs": [],
   "source": [
    "# SOTA architecture for ImageNet, run this for a chunk of data (ResNet-50, etc.) - pe imaginilie de test preferabil, aplicam atacurile\n",
    "# cand l0 a depasit norma, ma opresc. numar count(queries)"
   ]
  },
  {
   "cell_type": "code",
   "execution_count": null,
   "metadata": {},
   "outputs": [],
   "source": []
  },
  {
   "cell_type": "code",
   "execution_count": null,
   "metadata": {},
   "outputs": [],
   "source": []
  },
  {
   "cell_type": "code",
   "execution_count": null,
   "metadata": {},
   "outputs": [],
   "source": []
  },
  {
   "cell_type": "code",
   "execution_count": null,
   "metadata": {},
   "outputs": [],
   "source": []
  },
  {
   "cell_type": "code",
   "execution_count": null,
   "metadata": {},
   "outputs": [],
   "source": []
  },
  {
   "cell_type": "code",
   "execution_count": null,
   "metadata": {},
   "outputs": [],
   "source": []
  },
  {
   "cell_type": "markdown",
   "metadata": {},
   "source": [
    "<h3>CMA ES experiments below, neglect them for the moment</h3>"
   ]
  },
  {
   "cell_type": "code",
   "execution_count": null,
   "metadata": {
    "jupyter": {
     "source_hidden": true
    }
   },
   "outputs": [],
   "source": [
    "# import cma"
   ]
  },
  {
   "cell_type": "code",
   "execution_count": null,
   "metadata": {
    "jupyter": {
     "source_hidden": true
    }
   },
   "outputs": [],
   "source": [
    "# def get_function_for_label_and_model(label, model):\n",
    "#     def evaluate_model(flat_image):\n",
    "#         image = np.reshape(flat_image, (28,28,1))\n",
    "#         prediction = model.predict([image])[0][label]\n",
    "#         return prediction\n",
    "#     return evaluate_model"
   ]
  },
  {
   "cell_type": "code",
   "execution_count": null,
   "metadata": {
    "jupyter": {
     "source_hidden": true
    }
   },
   "outputs": [],
   "source": [
    "# index = 5\n",
    "# img = sample_x_test[index]\n",
    "# label = np.argmax(sample_y_test[index])"
   ]
  },
  {
   "cell_type": "code",
   "execution_count": null,
   "metadata": {
    "jupyter": {
     "source_hidden": true
    }
   },
   "outputs": [],
   "source": [
    "# plt.imshow(np.reshape(img, (28,28)))"
   ]
  },
  {
   "cell_type": "code",
   "execution_count": null,
   "metadata": {
    "jupyter": {
     "source_hidden": true
    }
   },
   "outputs": [],
   "source": [
    "# opt_funct = get_function_for_label_and_model(label, model_all_data)"
   ]
  },
  {
   "cell_type": "code",
   "execution_count": null,
   "metadata": {
    "jupyter": {
     "source_hidden": true
    }
   },
   "outputs": [],
   "source": [
    "# start_point = np.reshape(img, (-1))"
   ]
  },
  {
   "cell_type": "code",
   "execution_count": null,
   "metadata": {
    "jupyter": {
     "source_hidden": true
    }
   },
   "outputs": [],
   "source": [
    "# es = cma.CMAEvolutionStrategy(start_point, 10)"
   ]
  },
  {
   "cell_type": "code",
   "execution_count": null,
   "metadata": {
    "jupyter": {
     "source_hidden": true
    }
   },
   "outputs": [],
   "source": [
    "# while not es.stop():\n",
    "#     solutions = es.ask()\n",
    "#     fitnesses = [opt_funct(x) for x in solutions]\n",
    "#     index_best = np.argmin(fitnesses)\n",
    "#     img = np.reshape(solutions[index_best], (28,28))\n",
    "#     print(min(fitnesses))\n",
    "#     plt.imshow(img)\n",
    "#     plt.show()\n",
    "#     es.tell(solutions, fitnesses)\n",
    "#     es.logger.add()  # write data to disc to be plotted\n",
    "# #     es.disp()\n",
    "\n",
    "# # es.result_pretty()\n",
    "# # cma.plot()  # shortcut for es.logger.plot()"
   ]
  }
 ],
 "metadata": {
  "kernelspec": {
   "display_name": "Python 3",
   "language": "python",
   "name": "python3"
  },
  "language_info": {
   "codemirror_mode": {
    "name": "ipython",
    "version": 3
   },
   "file_extension": ".py",
   "mimetype": "text/x-python",
   "name": "python",
   "nbconvert_exporter": "python",
   "pygments_lexer": "ipython3",
   "version": "3.7.0"
  }
 },
 "nbformat": 4,
 "nbformat_minor": 4
}
