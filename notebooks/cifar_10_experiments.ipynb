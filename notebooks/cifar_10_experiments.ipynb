{
 "cells": [
  {
   "cell_type": "code",
   "execution_count": 1,
   "metadata": {},
   "outputs": [],
   "source": [
    "from tensorflow import keras\n",
    "import numpy as np\n",
    "import pandas as pd\n",
    "import matplotlib.pyplot as plt\n",
    "import importlib\n",
    "from tensorflow.keras.datasets import cifar100, cifar10\n",
    "from tensorflow.keras.utils import to_categorical\n",
    "from tqdm import tqdm\n",
    "\n",
    "import sys\n",
    "sys.path.append(\"../\")"
   ]
  },
  {
   "cell_type": "code",
   "execution_count": 2,
   "metadata": {},
   "outputs": [],
   "source": [
    "data = cifar10.load_data()"
   ]
  },
  {
   "cell_type": "code",
   "execution_count": 3,
   "metadata": {},
   "outputs": [],
   "source": [
    "x_test = data[1][0].astype(float)\n",
    "y_test = data[1][1].flatten()"
   ]
  },
  {
   "cell_type": "code",
   "execution_count": 4,
   "metadata": {},
   "outputs": [],
   "source": [
    "y_test = to_categorical(y_test, num_classes=10)"
   ]
  },
  {
   "cell_type": "code",
   "execution_count": 5,
   "metadata": {},
   "outputs": [],
   "source": [
    "from tensorflow.keras import models\n",
    "import sys"
   ]
  },
  {
   "cell_type": "code",
   "execution_count": null,
   "metadata": {},
   "outputs": [],
   "source": [
    "sys.path.append(\"models/\")\n",
    "model_cifar10 = models.load_model(\"models/resnet50model_cifar10.h5\")"
   ]
  },
  {
   "cell_type": "code",
   "execution_count": 7,
   "metadata": {},
   "outputs": [],
   "source": [
    "preds = model_cifar10.predict(x_test)"
   ]
  },
  {
   "cell_type": "code",
   "execution_count": 8,
   "metadata": {},
   "outputs": [
    {
     "data": {
      "text/plain": [
       "7984"
      ]
     },
     "execution_count": 8,
     "metadata": {},
     "output_type": "execute_result"
    }
   ],
   "source": [
    "(np.argmax(preds, axis=1) == np.argmax(y_test, axis=1)).sum()"
   ]
  },
  {
   "cell_type": "code",
   "execution_count": 9,
   "metadata": {},
   "outputs": [],
   "source": [
    "import sys\n",
    "sys.path.append(\"attacks/\")\n",
    "sys.path.append(\"utils/\")\n",
    "\n",
    "import utils\n",
    "from data_manager import load_data\n",
    "\n",
    "# Black Box Attacks\n",
    "import random_noise\n",
    "import EvoStrategy\n",
    "import SimbaWrapper"
   ]
  },
  {
   "cell_type": "code",
   "execution_count": 10,
   "metadata": {},
   "outputs": [],
   "source": [
    "model = model_cifar10"
   ]
  },
  {
   "cell_type": "code",
   "execution_count": 11,
   "metadata": {},
   "outputs": [
    {
     "data": {
      "text/plain": [
       "274"
      ]
     },
     "execution_count": 11,
     "metadata": {},
     "output_type": "execute_result"
    }
   ],
   "source": [
    "import gc\n",
    "gc.collect()"
   ]
  },
  {
   "cell_type": "code",
   "execution_count": 12,
   "metadata": {},
   "outputs": [],
   "source": [
    "preds = model.predict(x_test)"
   ]
  },
  {
   "cell_type": "code",
   "execution_count": 13,
   "metadata": {},
   "outputs": [],
   "source": [
    "pred_labels = np.argmax(preds, axis=1)"
   ]
  },
  {
   "cell_type": "code",
   "execution_count": 14,
   "metadata": {},
   "outputs": [],
   "source": [
    "true_labels = np.argmax(y_test, axis=1)"
   ]
  },
  {
   "cell_type": "code",
   "execution_count": 15,
   "metadata": {},
   "outputs": [],
   "source": [
    "acc = np.sum(pred_labels == true_labels) / len(y_test)"
   ]
  },
  {
   "cell_type": "code",
   "execution_count": 16,
   "metadata": {},
   "outputs": [
    {
     "data": {
      "text/plain": [
       "0.7984"
      ]
     },
     "execution_count": 16,
     "metadata": {},
     "output_type": "execute_result"
    }
   ],
   "source": [
    "acc"
   ]
  },
  {
   "cell_type": "code",
   "execution_count": 17,
   "metadata": {},
   "outputs": [
    {
     "data": {
      "text/plain": [
       "(32, 32, 3)"
      ]
     },
     "execution_count": 17,
     "metadata": {},
     "output_type": "execute_result"
    }
   ],
   "source": [
    "np.shape(x_test[0])"
   ]
  },
  {
   "cell_type": "code",
   "execution_count": 213,
   "metadata": {},
   "outputs": [],
   "source": [
    "x_test_correct = x_test[pred_labels == true_labels]\n",
    "y_test_correct = y_test[pred_labels == true_labels]"
   ]
  },
  {
   "cell_type": "code",
   "execution_count": 393,
   "metadata": {},
   "outputs": [
    {
     "name": "stdout",
     "output_type": "stream",
     "text": [
      "Step 1999 / 2000\n",
      "Previous robustness:  0.115\n"
     ]
    },
    {
     "data": {
      "image/png": "[encoded data removed]",
      "text/plain": [
       "<Figure size 432x288 with 1 Axes>"
      ]
     },
     "metadata": {
      "needs_background": "light"
     },
     "output_type": "display_data"
    }
   ],
   "source": [
    "importlib.reload(random_noise)\n",
    "\n",
    "agreements_cell_test, saved_noisy_imgs_cell_test, number_queries = random_noise.check_noise_robustness_multiple_rounds(\n",
    "    model,                  # model to attack\n",
    "    x_test_correct[:200],           # sample images to attack\n",
    "    y_test_correct[:200],    # correct labels of the sample images\n",
    "    2000,                      # max number of steps to run the attack for\n",
    "    noise_type=\"cells\",      # 'cells' by default, it is gaussian noise added to a random set of pixels\n",
    "    args={\n",
    "        \"cell_count\":33, # as CIFAR10 has 3 channels, the L0 will be 3*cell_count\n",
    "        \"normalize\":1\n",
    "    }   # 'cell_count' is how many pixels to randomly perturb at maximum; so l0 distance <= cell_count value\n",
    ")"
   ]
  },
  {
   "cell_type": "code",
   "execution_count": 500,
   "metadata": {},
   "outputs": [
    {
     "data": {
      "text/plain": [
       "0.695"
      ]
     },
     "execution_count": 500,
     "metadata": {},
     "output_type": "execute_result"
    }
   ],
   "source": [
    "len(number_queries)/200"
   ]
  },
  {
   "cell_type": "code",
   "execution_count": 404,
   "metadata": {},
   "outputs": [
    {
     "data": {
      "text/plain": [
       "159.32374100719426"
      ]
     },
     "execution_count": 404,
     "metadata": {},
     "output_type": "execute_result"
    }
   ],
   "source": [
    "np.mean(list(number_queries.values()))"
   ]
  },
  {
   "cell_type": "code",
   "execution_count": 397,
   "metadata": {},
   "outputs": [],
   "source": [
    "saved_noise_array = np.array(saved_noisy_imgs_cell_test)[np.invert(agreements_cell_test)]\n",
    "original_images = np.array(x_test_correct[:200])[np.invert(agreements_cell_test)]\n",
    "diffs = []\n",
    "for x in range(len(original_images)):\n",
    "    diff = abs(saved_noise_array[x] - original_images[x])\n",
    "    diffs.append(diff)"
   ]
  },
  {
   "cell_type": "code",
   "execution_count": 564,
   "metadata": {},
   "outputs": [],
   "source": [
    "import math\n",
    "l2_dists = []\n",
    "for x in diffs:\n",
    "    l2_dists.append(math.sqrt(np.sum(x ** 2)))"
   ]
  },
  {
   "cell_type": "code",
   "execution_count": 565,
   "metadata": {},
   "outputs": [
    {
     "data": {
      "text/plain": [
       "3.890088443751095"
      ]
     },
     "execution_count": 565,
     "metadata": {},
     "output_type": "execute_result"
    }
   ],
   "source": [
    "np.mean(l2_dists)/255"
   ]
  },
  {
   "cell_type": "code",
   "execution_count": 401,
   "metadata": {},
   "outputs": [],
   "source": [
    "l0_dists = []\n",
    "for x in diffs:\n",
    "    l0_dists.append(np.sum(x!=0))"
   ]
  },
  {
   "cell_type": "code",
   "execution_count": 402,
   "metadata": {},
   "outputs": [
    {
     "data": {
      "text/plain": [
       "97.16949152542372"
      ]
     },
     "execution_count": 402,
     "metadata": {},
     "output_type": "execute_result"
    }
   ],
   "source": [
    "np.mean(l0_dists)"
   ]
  },
  {
   "cell_type": "code",
   "execution_count": 391,
   "metadata": {},
   "outputs": [
    {
     "name": "stdout",
     "output_type": "stream",
     "text": [
      "correct label: [1. 0. 0. 0. 0. 0. 0. 0. 0. 0.]\n",
      "after: 8\n",
      "initially: 0\n",
      "[[1.6558166e-01 1.0804423e-03 9.6956227e-04 2.2843029e-02 1.2496864e-02\n",
      "  2.2430078e-04 2.1743183e-03 3.4578945e-03 7.4248195e-01 4.8689984e-02]]\n",
      "[[9.9163252e-01 7.1678858e-04 3.0690408e-05 1.3989178e-04 4.7649060e-05\n",
      "  3.6667752e-06 5.1356701e-06 1.9148905e-05 6.9927992e-03 4.1172121e-04]]\n",
      "queries: 0\n"
     ]
    }
   ],
   "source": [
    "# plt.imshow(saved_noisy_imgs_cell_test[2])\n",
    "print(\"correct label:\", y_test_correct[3])\n",
    "print(\"after:\", np.argmax(model.predict(np.expand_dims(saved_noisy_imgs_cell_test[3], 0)), axis=1)[0])\n",
    "print(\"initially:\", np.argmax(model.predict(np.expand_dims(x_test_correct[3], 0)), axis=1)[0])\n",
    "print(model.predict(np.expand_dims(saved_noisy_imgs_cell_test[3], 0)))\n",
    "print(model.predict(np.expand_dims(x_test_correct[3], 0)))\n",
    "print(\"queries:\", number_queries[3])"
   ]
  },
  {
   "cell_type": "code",
   "execution_count": 392,
   "metadata": {},
   "outputs": [
    {
     "data": {
      "text/plain": [
       "<matplotlib.image.AxesImage at 0x7fd75ca048d0>"
      ]
     },
     "execution_count": 392,
     "metadata": {},
     "output_type": "execute_result"
    },
    {
     "data": {
      "image/png": "[encoded data removed]",
      "text/plain": [
       "<Figure size 432x288 with 1 Axes>"
      ]
     },
     "metadata": {
      "needs_background": "light"
     },
     "output_type": "display_data"
    }
   ],
   "source": [
    "plt.imshow(saved_noisy_imgs_cell_test[3]/255)"
   ]
  },
  {
   "cell_type": "code",
   "execution_count": 214,
   "metadata": {},
   "outputs": [],
   "source": [
    "importlib.reload(SimbaWrapper)\n",
    "# SAMPLE_SIZE = len(x_test_sample)\n",
    "SAMPLE_SIZE = 200\n",
    "\n",
    "simba_wrapper = SimbaWrapper.SimbaWrapper(\n",
    "    model=model, \n",
    "    X=x_test_correct[:SAMPLE_SIZE], \n",
    "    y=y_test_correct[:SAMPLE_SIZE], \n",
    "    epsilon=0.2, \n",
    "    max_queries=4000, \n",
    "    max_l0_distance=32*32, \n",
    "    max_iterations = 2000,\n",
    "    folder=\"cifar_simba\",\n",
    "    verbose=False,\n",
    "    max_value=255.0\n",
    ")"
   ]
  },
  {
   "cell_type": "code",
   "execution_count": 215,
   "metadata": {},
   "outputs": [
    {
     "name": "stderr",
     "output_type": "stream",
     "text": [
      "100%|██████████| 200/200 [1:40:35<00:00, 30.18s/it]  \n"
     ]
    }
   ],
   "source": [
    "simba_wrapper.run_simba()"
   ]
  },
  {
   "cell_type": "code",
   "execution_count": 216,
   "metadata": {},
   "outputs": [
    {
     "data": {
      "text/plain": [
       "198"
      ]
     },
     "execution_count": 216,
     "metadata": {},
     "output_type": "execute_result"
    }
   ],
   "source": [
    "np.sum(simba_wrapper.perturbed)"
   ]
  },
  {
   "cell_type": "code",
   "execution_count": 217,
   "metadata": {},
   "outputs": [
    {
     "data": {
      "text/plain": [
       "240.09"
      ]
     },
     "execution_count": 217,
     "metadata": {},
     "output_type": "execute_result"
    }
   ],
   "source": [
    "np.mean(simba_wrapper.queries)"
   ]
  },
  {
   "cell_type": "code",
   "execution_count": 218,
   "metadata": {},
   "outputs": [
    {
     "data": {
      "text/plain": [
       "167.0"
      ]
     },
     "execution_count": 218,
     "metadata": {},
     "output_type": "execute_result"
    }
   ],
   "source": [
    "np.median(simba_wrapper.queries)"
   ]
  },
  {
   "cell_type": "code",
   "execution_count": 219,
   "metadata": {},
   "outputs": [
    {
     "data": {
      "text/plain": [
       "3061"
      ]
     },
     "execution_count": 219,
     "metadata": {},
     "output_type": "execute_result"
    }
   ],
   "source": [
    "(np.abs(simba_wrapper.X_modified[6] - simba_wrapper.X[0])!=0).sum()"
   ]
  },
  {
   "cell_type": "code",
   "execution_count": 220,
   "metadata": {},
   "outputs": [
    {
     "data": {
      "text/plain": [
       "array([1])"
      ]
     },
     "execution_count": 220,
     "metadata": {},
     "output_type": "execute_result"
    }
   ],
   "source": [
    "np.argmax(model.predict(np.array([simba_wrapper.X_modified[1]])), axis=1)"
   ]
  },
  {
   "cell_type": "code",
   "execution_count": 221,
   "metadata": {},
   "outputs": [
    {
     "data": {
      "text/plain": [
       "8"
      ]
     },
     "execution_count": 221,
     "metadata": {},
     "output_type": "execute_result"
    }
   ],
   "source": [
    "np.argmax(np.array([simba_wrapper.y[1]]))"
   ]
  },
  {
   "cell_type": "code",
   "execution_count": 222,
   "metadata": {},
   "outputs": [
    {
     "data": {
      "text/plain": [
       "array([8])"
      ]
     },
     "execution_count": 222,
     "metadata": {},
     "output_type": "execute_result"
    }
   ],
   "source": [
    "np.argmax(model.predict(np.array([simba_wrapper.X[1]])), axis=1)"
   ]
  },
  {
   "cell_type": "code",
   "execution_count": 223,
   "metadata": {},
   "outputs": [
    {
     "data": {
      "text/plain": [
       "255.0"
      ]
     },
     "execution_count": 223,
     "metadata": {},
     "output_type": "execute_result"
    }
   ],
   "source": [
    "simba_wrapper.X_modified[1].max()"
   ]
  },
  {
   "cell_type": "code",
   "execution_count": 224,
   "metadata": {},
   "outputs": [
    {
     "data": {
      "text/plain": [
       "99.14"
      ]
     },
     "execution_count": 224,
     "metadata": {},
     "output_type": "execute_result"
    }
   ],
   "source": [
    "np.mean(simba_wrapper.l0_distances)"
   ]
  },
  {
   "cell_type": "code",
   "execution_count": 225,
   "metadata": {},
   "outputs": [
    {
     "name": "stderr",
     "output_type": "stream",
     "text": [
      "100%|██████████| 50/50 [00:00<00:00, 634.04it/s]\n"
     ]
    }
   ],
   "source": [
    "import math\n",
    "l2_dists_simba = []\n",
    "for index_diff in tqdm(range(50)):\n",
    "    diff = np.abs(simba_wrapper.X_modified[index_diff] - simba_wrapper.X[index_diff])\n",
    "#     diff = np.reshape(diff, (32, 32, 3))\n",
    "    l2_dist = math.sqrt(np.sum(np.reshape(diff, (-1))**2))\n",
    "    l2_dists_simba.append(l2_dist)\n",
    "#     print(\"L2 distance:\", math.sqrt(np.sum(np.reshape(diff, (-1))**2)))\n",
    "#     plt.imshow(np.reshape(adv_evo_strategy[index_diff].get_best_candidate(), (28, 28)))\n",
    "#     plt.show()\n",
    "#     print(\"Prediction:\", model.predict(np.array([adv_evo_strategy[index_diff].get_best_candidate()])))"
   ]
  },
  {
   "cell_type": "code",
   "execution_count": 226,
   "metadata": {},
   "outputs": [
    {
     "data": {
      "text/plain": [
       "1.6563481544653615"
      ]
     },
     "execution_count": 226,
     "metadata": {},
     "output_type": "execute_result"
    }
   ],
   "source": [
    "np.mean(l2_dists_simba)/255"
   ]
  },
  {
   "cell_type": "code",
   "execution_count": 227,
   "metadata": {},
   "outputs": [
    {
     "data": {
      "text/plain": [
       "384.8036513185099"
      ]
     },
     "execution_count": 227,
     "metadata": {},
     "output_type": "execute_result"
    }
   ],
   "source": [
    "np.median(l2_dists_simba)"
   ]
  },
  {
   "cell_type": "code",
   "execution_count": null,
   "metadata": {},
   "outputs": [],
   "source": [
    "# sa rulez simba pe 1000 de imagini (pe cifar), tabel cu reported results from the authors + our results for simba\n",
    "# si strategia noastra pe 1000 de imagini de imagenet"
   ]
  },
  {
   "cell_type": "code",
   "execution_count": null,
   "metadata": {},
   "outputs": [],
   "source": [
    "# Randomness + information in BBA\n",
    "# baseline: pur random. EvoStrategy: permite o folosire mai buna a informatiei (decat SimBA)\n",
    "# strategia extrem de simpla, smart/advanced baseline\n",
    "# de trimis related work cu evo strategies pe BBA\n",
    "# abs: BBA mai dificile, au nevoie de randomness, dar si sa fol info obtinuta.\n",
    "#    propunem .. care depaseste .., putand deveni un smart baseline pentru alte metode de AA\n",
    "#    scopul atacului este l0, dar raportam si l2\n",
    "\n",
    "# 50 de imag din imagenet macar (resnet50, inceptionv3 altfel)"
   ]
  },
  {
   "cell_type": "code",
   "execution_count": null,
   "metadata": {},
   "outputs": [],
   "source": []
  },
  {
   "cell_type": "code",
   "execution_count": null,
   "metadata": {},
   "outputs": [],
   "source": []
  },
  {
   "cell_type": "code",
   "execution_count": null,
   "metadata": {},
   "outputs": [],
   "source": []
  },
  {
   "cell_type": "code",
   "execution_count": 186,
   "metadata": {},
   "outputs": [],
   "source": [
    "class NumpyEncoder(json.JSONEncoder):\n",
    "    def default(self, obj):\n",
    "        if isinstance(obj, np.ndarray):\n",
    "            return obj.tolist()\n",
    "        return json.JSONEncoder.default(self, obj)"
   ]
  },
  {
   "cell_type": "code",
   "execution_count": 189,
   "metadata": {},
   "outputs": [
    {
     "name": "stderr",
     "output_type": "stream",
     "text": [
      "  0%|          | 0/2000 [00:00<?, ?it/s]"
     ]
    },
    {
     "name": "stdout",
     "output_type": "stream",
     "text": [
      "START\n",
      "Experiment TIMESTAMP: 2021-02-15 00:33:34.302374\n",
      "RESTART_INDEX: 0\n",
      "perturbed_images: 0\n"
     ]
    },
    {
     "name": "stderr",
     "output_type": "stream",
     "text": [
      "  0%|          | 1/2000 [00:03<2:08:34,  3.86s/it]"
     ]
    },
    {
     "name": "stdout",
     "output_type": "stream",
     "text": [
      "Saved file 0\n"
     ]
    },
    {
     "name": "stderr",
     "output_type": "stream",
     "text": [
      "  5%|▌         | 100/2000 [03:11<1:12:44,  2.30s/it]"
     ]
    },
    {
     "name": "stdout",
     "output_type": "stream",
     "text": [
      "Saved file 1\n"
     ]
    },
    {
     "name": "stderr",
     "output_type": "stream",
     "text": [
      " 10%|█         | 200/2000 [06:15<1:19:43,  2.66s/it]"
     ]
    },
    {
     "name": "stdout",
     "output_type": "stream",
     "text": [
      "Saved file 2\n"
     ]
    },
    {
     "name": "stderr",
     "output_type": "stream",
     "text": [
      " 15%|█▌        | 300/2000 [09:35<1:10:00,  2.47s/it]"
     ]
    },
    {
     "name": "stdout",
     "output_type": "stream",
     "text": [
      "Saved file 3\n"
     ]
    },
    {
     "name": "stderr",
     "output_type": "stream",
     "text": [
      " 20%|██        | 400/2000 [13:00<42:32,  1.60s/it]  "
     ]
    },
    {
     "name": "stdout",
     "output_type": "stream",
     "text": [
      "Saved file 4\n"
     ]
    },
    {
     "name": "stderr",
     "output_type": "stream",
     "text": [
      " 25%|██▌       | 500/2000 [16:52<59:27,  2.38s/it]  "
     ]
    },
    {
     "name": "stdout",
     "output_type": "stream",
     "text": [
      "Saved file 5\n"
     ]
    },
    {
     "name": "stderr",
     "output_type": "stream",
     "text": [
      " 30%|███       | 600/2000 [20:15<52:42,  2.26s/it]  "
     ]
    },
    {
     "name": "stdout",
     "output_type": "stream",
     "text": [
      "Saved file 6\n"
     ]
    },
    {
     "name": "stderr",
     "output_type": "stream",
     "text": [
      " 35%|███▌      | 700/2000 [23:51<44:18,  2.05s/it]  "
     ]
    },
    {
     "name": "stdout",
     "output_type": "stream",
     "text": [
      "Saved file 7\n"
     ]
    },
    {
     "name": "stderr",
     "output_type": "stream",
     "text": [
      " 40%|████      | 800/2000 [27:25<1:00:07,  3.01s/it]"
     ]
    },
    {
     "name": "stdout",
     "output_type": "stream",
     "text": [
      "Saved file 8\n"
     ]
    },
    {
     "name": "stderr",
     "output_type": "stream",
     "text": [
      " 45%|████▌     | 900/2000 [31:02<56:10,  3.06s/it]  "
     ]
    },
    {
     "name": "stdout",
     "output_type": "stream",
     "text": [
      "Saved file 9\n"
     ]
    },
    {
     "name": "stderr",
     "output_type": "stream",
     "text": [
      " 50%|█████     | 1000/2000 [34:35<43:37,  2.62s/it] "
     ]
    },
    {
     "name": "stdout",
     "output_type": "stream",
     "text": [
      "Saved file 10\n"
     ]
    },
    {
     "name": "stderr",
     "output_type": "stream",
     "text": [
      " 55%|█████▌    | 1100/2000 [37:57<33:17,  2.22s/it]  "
     ]
    },
    {
     "name": "stdout",
     "output_type": "stream",
     "text": [
      "Saved file 11\n"
     ]
    },
    {
     "name": "stderr",
     "output_type": "stream",
     "text": [
      " 60%|██████    | 1200/2000 [41:37<53:02,  3.98s/it]  "
     ]
    },
    {
     "name": "stdout",
     "output_type": "stream",
     "text": [
      "Saved file 12\n"
     ]
    },
    {
     "name": "stderr",
     "output_type": "stream",
     "text": [
      " 65%|██████▌   | 1300/2000 [45:07<21:10,  1.82s/it]  "
     ]
    },
    {
     "name": "stdout",
     "output_type": "stream",
     "text": [
      "Saved file 13\n"
     ]
    },
    {
     "name": "stderr",
     "output_type": "stream",
     "text": [
      " 70%|███████   | 1400/2000 [48:45<34:28,  3.45s/it]  "
     ]
    },
    {
     "name": "stdout",
     "output_type": "stream",
     "text": [
      "Saved file 14\n"
     ]
    },
    {
     "name": "stderr",
     "output_type": "stream",
     "text": [
      " 75%|███████▌  | 1500/2000 [52:08<16:24,  1.97s/it]  "
     ]
    },
    {
     "name": "stdout",
     "output_type": "stream",
     "text": [
      "Saved file 15\n"
     ]
    },
    {
     "name": "stderr",
     "output_type": "stream",
     "text": [
      " 80%|████████  | 1600/2000 [56:12<15:58,  2.40s/it]  "
     ]
    },
    {
     "name": "stdout",
     "output_type": "stream",
     "text": [
      "Saved file 16\n"
     ]
    },
    {
     "name": "stderr",
     "output_type": "stream",
     "text": [
      " 85%|████████▌ | 1700/2000 [1:00:04<08:48,  1.76s/it]"
     ]
    },
    {
     "name": "stdout",
     "output_type": "stream",
     "text": [
      "Saved file 17\n"
     ]
    },
    {
     "name": "stderr",
     "output_type": "stream",
     "text": [
      " 90%|█████████ | 1800/2000 [1:04:02<06:08,  1.84s/it]"
     ]
    },
    {
     "name": "stdout",
     "output_type": "stream",
     "text": [
      "Saved file 18\n"
     ]
    },
    {
     "name": "stderr",
     "output_type": "stream",
     "text": [
      " 95%|█████████▌| 1900/2000 [1:07:42<02:29,  1.50s/it]"
     ]
    },
    {
     "name": "stdout",
     "output_type": "stream",
     "text": [
      "Saved file 19\n"
     ]
    },
    {
     "name": "stderr",
     "output_type": "stream",
     "text": [
      "100%|██████████| 2000/2000 [1:11:37<00:00,  2.15s/it]\n"
     ]
    }
   ],
   "source": [
    "importlib.reload(EvoStrategy)\n",
    "import json\n",
    "import time\n",
    "import datetime\n",
    "from pathlib import Path\n",
    "\n",
    "GENERATION_SIZE = 30\n",
    "PIXEL_COUNT = 1\n",
    "STEPS = 200\n",
    "\n",
    "# RESTART = True\n",
    "RESTART = False\n",
    "\n",
    "if RESTART:\n",
    "    RESTART_FILE_INDEX = 14\n",
    "    TIMESTAMP = \"2020-11-18 23:48:56.704612\"\n",
    "    RESTART_INDEX = RESTART_FILE_INDEX * 100 + 1\n",
    "    with open(f\"saved_experiments/{TIMESTAMP}/{RESTART_FILE_INDEX}.json\") as fp:\n",
    "        json_saved_results = json.load(fp)\n",
    "        perturbed_images = json_saved_results[\"perturbed\"]\n",
    "        queries = json_saved_results[\"queries\"]\n",
    "        best_candidates = json_saved_results[\"best_candidates\"]\n",
    "else:\n",
    "    RESTART_INDEX = 0\n",
    "    TIMESTAMP = str(datetime.datetime.now())\n",
    "    perturbed_images = 0\n",
    "    queries = []\n",
    "    best_candidates = []\n",
    "\n",
    "\n",
    "print(\"START\")\n",
    "print(\"Experiment TIMESTAMP:\", TIMESTAMP)\n",
    "print(\"RESTART_INDEX:\", RESTART_INDEX)\n",
    "print(\"perturbed_images:\", perturbed_images)\n",
    "\n",
    "VERBOSE = False\n",
    "\n",
    "adv_evo_strategy = {}\n",
    "\n",
    "# SIZE = len(x_test_correct)\n",
    "SAVE = True\n",
    "SIZE = 2000\n",
    "\n",
    "BASE = \"saved_experiments_cifar10\"\n",
    "Path(BASE).mkdir(exist_ok=True)\n",
    "\n",
    "Path(BASE + \"/\" + TIMESTAMP).mkdir(exist_ok=True)\n",
    "\n",
    "CLEAR_MEMORY = False\n",
    "\n",
    "BACKUP_STEP = 100\n",
    "for index in tqdm(range(RESTART_INDEX, SIZE)):\n",
    "    if VERBOSE:\n",
    "        print()\n",
    "        print(index)\n",
    "    img = x_test_correct[index]\n",
    "    label = np.argmax(y_test_correct[index])\n",
    "    adv_evo_strategy[index] = EvoStrategy.AdversarialPerturbationEvoStraegy(\n",
    "        model=model,\n",
    "        img=img,\n",
    "        label=label,\n",
    "        generation_size=GENERATION_SIZE, \n",
    "        one_step_perturbation_pixel_count=PIXEL_COUNT,\n",
    "        verbose=VERBOSE,\n",
    "        zero_one_scale=False\n",
    "    )\n",
    "    no_steps = adv_evo_strategy[index].run_adversarial_attack(steps=STEPS)\n",
    "    if adv_evo_strategy[index].stop_criterion() and no_steps > 0:\n",
    "        perturbed_images += 1\n",
    "        queries.append(adv_evo_strategy[index].queries)\n",
    "    else:\n",
    "        queries.append(-1)\n",
    "    \n",
    "    if(index % BACKUP_STEP == 0 and SAVE):\n",
    "        file_count = (index + 1) // BACKUP_STEP\n",
    "        queries_successful = list(filter(lambda x: x!=-1, queries))\n",
    "    \n",
    "        save_data = {\n",
    "            \"queries\": queries,\n",
    "            \"count\": index + 1,\n",
    "            \"perturbed\": perturbed_images,\n",
    "            \"avg_queries\": sum(queries_successful) / len(queries_successful),\n",
    "            \"best_candidates\": best_candidates\n",
    "        }\n",
    "        with open(f\"{BASE}/{TIMESTAMP}/{file_count}.json\", 'w') as fp:\n",
    "            json.dump(save_data, fp, cls=NumpyEncoder)\n",
    "            print(f\"Saved file {file_count}\")\n",
    "        gc.collect()\n",
    "    \n",
    "    best_candidates.append(adv_evo_strategy[index].get_best_candidate())\n",
    "    \n",
    "    if CLEAR_MEMORY:\n",
    "        adv_evo_strategy[index] = {}"
   ]
  },
  {
   "cell_type": "code",
   "execution_count": 356,
   "metadata": {},
   "outputs": [
    {
     "data": {
      "text/plain": [
       "2000"
      ]
     },
     "execution_count": 356,
     "metadata": {},
     "output_type": "execute_result"
    }
   ],
   "source": [
    "perturbed_images"
   ]
  },
  {
   "cell_type": "code",
   "execution_count": 191,
   "metadata": {},
   "outputs": [],
   "source": [
    "queries_mean = np.mean(queries)"
   ]
  },
  {
   "cell_type": "code",
   "execution_count": 192,
   "metadata": {},
   "outputs": [],
   "source": [
    "queries_median = np.median(queries)"
   ]
  },
  {
   "cell_type": "code",
   "execution_count": 295,
   "metadata": {},
   "outputs": [],
   "source": [
    "queries.sort()"
   ]
  },
  {
   "cell_type": "code",
   "execution_count": 355,
   "metadata": {},
   "outputs": [
    {
     "data": {
      "text/plain": [
       "array([  31,   31,   31, ..., 1051, 1081, 1081])"
      ]
     },
     "execution_count": 355,
     "metadata": {},
     "output_type": "execute_result"
    }
   ],
   "source": [
    "x"
   ]
  },
  {
   "cell_type": "code",
   "execution_count": 337,
   "metadata": {},
   "outputs": [],
   "source": [
    "def get_empirical_distribution(queries_in, count_images):\n",
    "    queries = queries_in.copy()\n",
    "    queries.sort()\n",
    "    list_x = [0]\n",
    "    list_y = [0]\n",
    "    max_q = max(queries)\n",
    "    for x in range(len(queries)):\n",
    "        if x == len(queries) - 1:\n",
    "            list_x.append(queries[x])\n",
    "            list_y.append((x + 1) / perturbed_images)\n",
    "        elif queries[x] != queries[x+1]:\n",
    "            list_x.append(queries[x])\n",
    "            list_y.append((x + 1) / perturbed_images)\n",
    "    return list_x, list_y"
   ]
  },
  {
   "cell_type": "code",
   "execution_count": 485,
   "metadata": {},
   "outputs": [
    {
     "data": {
      "image/png": "[encoded data removed]",
      "text/plain": [
       "<Figure size 864x576 with 1 Axes>"
      ]
     },
     "metadata": {
      "needs_background": "light"
     },
     "output_type": "display_data"
    }
   ],
   "source": [
    "plt.rcParams.update({'font.size': 22})\n",
    "plt.figure(figsize=(12,8))\n",
    "plt.title(\"L0 histogram for EvoBA(1, 30) on CIFAR-10\", fontdict={\"size\":22})\n",
    "plt.hist(l0_dists)\n",
    "plt.show()"
   ]
  },
  {
   "cell_type": "code",
   "execution_count": 480,
   "metadata": {},
   "outputs": [
    {
     "data": {
      "image/png": "[encoded data removed]",
      "text/plain": [
       "<Figure size 864x576 with 1 Axes>"
      ]
     },
     "metadata": {
      "needs_background": "light"
     },
     "output_type": "display_data"
    }
   ],
   "source": [
    "plt.rcParams.update({'font.size': 22})\n",
    "plt.figure(figsize=(12,8))\n",
    "plt.title(\"Query histogram for EvoBA(1, 30) on CIFAR-10\", fontdict={\"size\":22})\n",
    "plt.hist(queries)\n",
    "plt.show()"
   ]
  },
  {
   "cell_type": "code",
   "execution_count": 338,
   "metadata": {},
   "outputs": [],
   "source": [
    "list_x_evoba, list_y_evoba = get_empirical_distribution(queries, len(queries))"
   ]
  },
  {
   "cell_type": "code",
   "execution_count": 348,
   "metadata": {},
   "outputs": [],
   "source": [
    "simba_q = np.array(simba_wrapper.queries)[simba_wrapper.perturbed]\n",
    "simba_q.sort()\n",
    "\n",
    "list_x_simba, list_y_simba = get_empirical_distribution(simba_q, len(simba_wrapper.perturbed))"
   ]
  },
  {
   "cell_type": "code",
   "execution_count": 437,
   "metadata": {},
   "outputs": [],
   "source": [
    "random_q = list(number_queries.values())\n",
    "random_q.sort()\n",
    "\n",
    "list_x_random, list_y_random = get_empirical_distribution(random_q, len(agreements_cell_test))\n",
    "\n",
    "list_x_random.append(np.max(list_x_simba))\n",
    "list_y_random.append(list_y_random[len(list_y_random)-1])"
   ]
  },
  {
   "cell_type": "code",
   "execution_count": 428,
   "metadata": {},
   "outputs": [],
   "source": [
    "random_q_mean = np.mean(random_q)\n",
    "random_q_median = np.median(random_q)"
   ]
  },
  {
   "cell_type": "code",
   "execution_count": 349,
   "metadata": {},
   "outputs": [],
   "source": [
    "# BINS = 2000\n",
    "# max_range = max(queries)\n",
    "# bins_list = np.array(range(BINS)) * max_range/BINS\n",
    "\n",
    "# res = plt.hist(queries, cumulative=True, histtype='step', density=True, bins=bins_list)\n",
    "# res_y = [0]+list(res[0])\n",
    "# res_x = [0]+list(res[1][:BINS-1])"
   ]
  },
  {
   "cell_type": "code",
   "execution_count": 350,
   "metadata": {},
   "outputs": [],
   "source": [
    "# with open(\"cifar_simba/4.json\", \"r\") as f:\n",
    "#     data_cifar_simba = json.load(f)"
   ]
  },
  {
   "cell_type": "code",
   "execution_count": 351,
   "metadata": {},
   "outputs": [],
   "source": [
    "# BINS = 200\n",
    "# max_range = max(simba_wrapper.queries)\n",
    "# bins_list = np.array(range(BINS)) * max_range/BINS\n",
    "\n",
    "# res = plt.hist(simba_wrapper.queries, cumulative=True, histtype='step', density=True, bins=bins_list)\n",
    "# res_y_simba = [0]+list(res[0])\n",
    "# res_x_simba = [0]+list(res[1][:BINS-1])\n",
    "\n",
    "# queries_mean_simba = np.mean(simba_wrapper.queries)\n",
    "# queries_median_simba = np.median(simba_wrapper.queries)"
   ]
  },
  {
   "cell_type": "code",
   "execution_count": 353,
   "metadata": {},
   "outputs": [
    {
     "data": {
      "text/plain": [
       "1"
      ]
     },
     "execution_count": 353,
     "metadata": {},
     "output_type": "execute_result"
    }
   ],
   "source": [
    "int(True)"
   ]
  },
  {
   "cell_type": "code",
   "execution_count": 490,
   "metadata": {},
   "outputs": [
    {
     "data": {
      "image/png": "[encoded data removed]",
      "text/plain": [
       "<Figure size 864x576 with 1 Axes>"
      ]
     },
     "metadata": {
      "needs_background": "light"
     },
     "output_type": "display_data"
    }
   ],
   "source": [
    "# BINS = 30\n",
    "plt.rcParams.update({'font.size': 17})\n",
    "\n",
    "plt.figure(figsize=(12,8))\n",
    "plt.title(\"CIFAR10: EvoBA(1,30) vs SimBA-LCB vs CompleteRandom\", fontdict={\"size\":19})\n",
    "plt.grid(color='b', ls = '-.', lw = 0.15)\n",
    "# plt.xlim(0,np.max(queries))\n",
    "# plt.axhline(y=1, linestyle=':')\n",
    "plt.plot(list_x_evoba, list_y_evoba, label=\"EvoBA(1,30)\")\n",
    "plt.axvline(x=queries_mean, linestyle=':', label=\"Mean Query Count EvoBA(1,30)\")\n",
    "plt.axvline(x=queries_median, linestyle='dashed', label=\"Median Query Count EvoBA(1,30)\")\n",
    "\n",
    "plt.plot(list_x_simba, list_y_simba, color='orange', label=\"SimBA-LCB\")\n",
    "plt.axvline(x=queries_mean_simba, linestyle=':', label=\"Mean Query Count SimBA-LCB\", color='orange')\n",
    "plt.axvline(x=queries_median_simba, linestyle='dashed', label=\"Median Query Count SimBA-LCB\", color='orange')\n",
    "\n",
    "plt.plot(list_x_random, list_y_random, color='red', label=\"CompleteRandom\")\n",
    "# plt.axvline(x=random_q_mean, linestyle=':', label=\"Mean Query Count SimBA\", color='red')\n",
    "# plt.axvline(x=random_q_median, linestyle='dashed', label=\"Median Query Count SimBA\", color='red')\n",
    "\n",
    "plt.legend(loc='lower right')\n",
    "\n",
    "plt.xlabel('Number of Queries')\n",
    "plt.ylabel('Success Rate')\n",
    "\n",
    "plt.show()"
   ]
  },
  {
   "cell_type": "code",
   "execution_count": 347,
   "metadata": {
    "collapsed": true,
    "jupyter": {
     "outputs_hidden": true
    }
   },
   "outputs": [
    {
     "data": {
      "text/plain": [
       "[0,\n",
       " 0.005050505050505051,\n",
       " 0.010101010101010102,\n",
       " 0.015151515151515152,\n",
       " 0.020202020202020204,\n",
       " 0.030303030303030304,\n",
       " 0.03535353535353535,\n",
       " 0.04040404040404041,\n",
       " 0.050505050505050504,\n",
       " 0.05555555555555555,\n",
       " 0.07575757575757576,\n",
       " 0.08080808080808081,\n",
       " 0.08585858585858586,\n",
       " 0.09090909090909091,\n",
       " 0.09595959595959595,\n",
       " 0.10101010101010101,\n",
       " 0.10606060606060606,\n",
       " 0.1111111111111111,\n",
       " 0.12626262626262627,\n",
       " 0.13636363636363635,\n",
       " 0.1414141414141414,\n",
       " 0.15656565656565657,\n",
       " 0.16666666666666666,\n",
       " 0.1717171717171717,\n",
       " 0.17676767676767677,\n",
       " 0.18686868686868688,\n",
       " 0.1919191919191919,\n",
       " 0.19696969696969696,\n",
       " 0.20202020202020202,\n",
       " 0.20707070707070707,\n",
       " 0.2222222222222222,\n",
       " 0.22727272727272727,\n",
       " 0.23737373737373738,\n",
       " 0.2474747474747475,\n",
       " 0.25252525252525254,\n",
       " 0.25757575757575757,\n",
       " 0.2676767676767677,\n",
       " 0.2777777777777778,\n",
       " 0.2878787878787879,\n",
       " 0.29292929292929293,\n",
       " 0.30303030303030304,\n",
       " 0.30808080808080807,\n",
       " 0.31313131313131315,\n",
       " 0.3181818181818182,\n",
       " 0.32323232323232326,\n",
       " 0.3333333333333333,\n",
       " 0.3383838383838384,\n",
       " 0.3434343434343434,\n",
       " 0.3484848484848485,\n",
       " 0.35353535353535354,\n",
       " 0.35858585858585856,\n",
       " 0.36363636363636365,\n",
       " 0.37373737373737376,\n",
       " 0.3838383838383838,\n",
       " 0.3888888888888889,\n",
       " 0.3939393939393939,\n",
       " 0.398989898989899,\n",
       " 0.40404040404040403,\n",
       " 0.4090909090909091,\n",
       " 0.41414141414141414,\n",
       " 0.41919191919191917,\n",
       " 0.42424242424242425,\n",
       " 0.4292929292929293,\n",
       " 0.43434343434343436,\n",
       " 0.4393939393939394,\n",
       " 0.4444444444444444,\n",
       " 0.4494949494949495,\n",
       " 0.4595959595959596,\n",
       " 0.46464646464646464,\n",
       " 0.4696969696969697,\n",
       " 0.47474747474747475,\n",
       " 0.48484848484848486,\n",
       " 0.4898989898989899,\n",
       " 0.5,\n",
       " 0.51010101010101,\n",
       " 0.5151515151515151,\n",
       " 0.5202020202020202,\n",
       " 0.5252525252525253,\n",
       " 0.5303030303030303,\n",
       " 0.5353535353535354,\n",
       " 0.5404040404040404,\n",
       " 0.5454545454545454,\n",
       " 0.5606060606060606,\n",
       " 0.5656565656565656,\n",
       " 0.5707070707070707,\n",
       " 0.5757575757575758,\n",
       " 0.5808080808080808,\n",
       " 0.5858585858585859,\n",
       " 0.5909090909090909,\n",
       " 0.5959595959595959,\n",
       " 0.6060606060606061,\n",
       " 0.6111111111111112,\n",
       " 0.6161616161616161,\n",
       " 0.6212121212121212,\n",
       " 0.6313131313131313,\n",
       " 0.6363636363636364,\n",
       " 0.6414141414141414,\n",
       " 0.6464646464646465,\n",
       " 0.6565656565656566,\n",
       " 0.6616161616161617,\n",
       " 0.6666666666666666,\n",
       " 0.6717171717171717,\n",
       " 0.6767676767676768,\n",
       " 0.6868686868686869,\n",
       " 0.6919191919191919,\n",
       " 0.702020202020202,\n",
       " 0.7070707070707071,\n",
       " 0.7121212121212122,\n",
       " 0.7171717171717171,\n",
       " 0.7222222222222222,\n",
       " 0.7272727272727273,\n",
       " 0.7323232323232324,\n",
       " 0.7373737373737373,\n",
       " 0.7424242424242424,\n",
       " 0.7525252525252525,\n",
       " 0.7575757575757576,\n",
       " 0.7626262626262627,\n",
       " 0.7676767676767676,\n",
       " 0.7777777777777778,\n",
       " 0.7828282828282829,\n",
       " 0.7878787878787878,\n",
       " 0.7929292929292929,\n",
       " 0.797979797979798,\n",
       " 0.803030303030303,\n",
       " 0.8080808080808081,\n",
       " 0.8131313131313131,\n",
       " 0.8181818181818182,\n",
       " 0.8232323232323232,\n",
       " 0.8282828282828283,\n",
       " 0.8333333333333334,\n",
       " 0.8383838383838383,\n",
       " 0.8434343434343434,\n",
       " 0.8484848484848485,\n",
       " 0.8636363636363636,\n",
       " 0.8686868686868687,\n",
       " 0.8737373737373737,\n",
       " 0.8838383838383839,\n",
       " 0.8888888888888888,\n",
       " 0.8939393939393939,\n",
       " 0.898989898989899,\n",
       " 0.9040404040404041,\n",
       " 0.9090909090909091,\n",
       " 0.9141414141414141,\n",
       " 0.9191919191919192,\n",
       " 0.9242424242424242,\n",
       " 0.9292929292929293,\n",
       " 0.9343434343434344,\n",
       " 0.9393939393939394,\n",
       " 0.9444444444444444,\n",
       " 0.9494949494949495,\n",
       " 0.9545454545454546,\n",
       " 0.9595959595959596,\n",
       " 0.9646464646464646,\n",
       " 0.9696969696969697,\n",
       " 0.9747474747474747,\n",
       " 0.9797979797979798,\n",
       " 0.9848484848484849,\n",
       " 0.98989898989899,\n",
       " 0.9949494949494949,\n",
       " 1.0]"
      ]
     },
     "execution_count": 347,
     "metadata": {},
     "output_type": "execute_result"
    }
   ],
   "source": []
  },
  {
   "cell_type": "code",
   "execution_count": 117,
   "metadata": {},
   "outputs": [
    {
     "data": {
      "text/plain": [
       "[<matplotlib.lines.Line2D at 0x7fe27da23fd0>]"
      ]
     },
     "execution_count": 117,
     "metadata": {},
     "output_type": "execute_result"
    },
    {
     "data": {
      "image/png": "[encoded data removed]",
      "text/plain": [
       "<Figure size 432x288 with 1 Axes>"
      ]
     },
     "metadata": {
      "needs_background": "light"
     },
     "output_type": "display_data"
    }
   ],
   "source": [
    "plt.plot(res[1][:],res[0])"
   ]
  },
  {
   "cell_type": "code",
   "execution_count": 77,
   "metadata": {},
   "outputs": [
    {
     "data": {
      "image/png": "[encoded data removed]",
      "text/plain": [
       "<Figure size 864x288 with 3 Axes>"
      ]
     },
     "metadata": {
      "needs_background": "light"
     },
     "output_type": "display_data"
    }
   ],
   "source": [
    "fig, axes = plt.subplots(1,3, figsize = (12,4))\n",
    "x = np.arange(1,11)\n",
    "axes[0].plot(x, x**3, 'g',lw=2)\n",
    "axes[0].grid(True)\n",
    "axes[0].set_title('default grid')\n",
    "axes[1].plot(x, np.exp(x), 'r')\n",
    "axes[1].grid(color='b', ls = '-.', lw = 0.25)\n",
    "axes[1].set_title('custom grid')\n",
    "axes[2].plot(x,x)\n",
    "axes[2].set_title('no grid')\n",
    "fig.tight_layout()\n",
    "plt.show()"
   ]
  },
  {
   "cell_type": "code",
   "execution_count": 23,
   "metadata": {},
   "outputs": [
    {
     "data": {
      "text/plain": [
       "136.0"
      ]
     },
     "execution_count": 23,
     "metadata": {},
     "output_type": "execute_result"
    }
   ],
   "source": [
    "np.quantile(queries,0.5)"
   ]
  },
  {
   "cell_type": "code",
   "execution_count": 63,
   "metadata": {},
   "outputs": [
    {
     "data": {
      "text/plain": [
       "(array([4.60784314e-03, 2.45098039e-03, 1.27450980e-03, 6.86274510e-04,\n",
       "        2.94117647e-04, 1.96078431e-04, 0.00000000e+00, 1.96078431e-04,\n",
       "        0.00000000e+00, 9.80392157e-05]),\n",
       " array([  31.,  133.,  235.,  337.,  439.,  541.,  643.,  745.,  847.,\n",
       "         949., 1051.]),\n",
       " <a list of 10 Patch objects>)"
      ]
     },
     "execution_count": 63,
     "metadata": {},
     "output_type": "execute_result"
    },
    {
     "data": {
      "image/png": "[encoded data removed]",
      "text/plain": [
       "<Figure size 432x288 with 1 Axes>"
      ]
     },
     "metadata": {
      "needs_background": "light"
     },
     "output_type": "display_data"
    }
   ],
   "source": [
    "plt.hist(queries, density=True, bins=10)"
   ]
  },
  {
   "cell_type": "code",
   "execution_count": 567,
   "metadata": {},
   "outputs": [
    {
     "name": "stderr",
     "output_type": "stream",
     "text": [
      "100%|██████████| 2000/2000 [00:00<00:00, 3242.27it/s]\n"
     ]
    }
   ],
   "source": [
    "import math\n",
    "l2_dists = []\n",
    "for index_diff in tqdm(range(SIZE)):\n",
    "    diff = np.abs(adv_evo_strategy[index_diff].get_best_candidate() - x_test_correct[index_diff])\n",
    "    diff = np.reshape(diff, (32, 32, 3))\n",
    "    l2_dist = math.sqrt(np.sum(np.reshape(diff, (-1))**2))\n",
    "    l2_dists.append(l2_dist)\n",
    "#     print(\"L2 distance:\", math.sqrt(np.sum(np.reshape(diff, (-1))**2)))\n",
    "#     plt.imshow(np.reshape(adv_evo_strategy[index_diff].get_best_candidate(), (28, 28)))\n",
    "#     plt.show()\n",
    "#     print(\"Prediction:\", model.predict(np.array([adv_evo_strategy[index_diff].get_best_candidate()])))"
   ]
  },
  {
   "cell_type": "code",
   "execution_count": 574,
   "metadata": {},
   "outputs": [
    {
     "name": "stderr",
     "output_type": "stream",
     "text": [
      "100%|██████████| 2000/2000 [00:00<00:00, 17442.87it/s]\n"
     ]
    }
   ],
   "source": [
    "import math\n",
    "l2_dists_relative = []\n",
    "for index_diff in tqdm(range(SIZE)):\n",
    "    diff = np.abs(adv_evo_strategy[index_diff].get_best_candidate() - x_test_correct[index_diff])\n",
    "    diff = np.reshape(diff, (32, 32, 3))\n",
    "    l2_dist = math.sqrt(np.sum(np.reshape(diff, (-1))**2))\n",
    "    l2_img = math.sqrt(np.sum(np.reshape(x_test_correct[index_diff], -1)**2))\n",
    "    l2_dists_relative.append(l2_dist / l2_img)\n",
    "#     print(\"L2 distance:\", math.sqrt(np.sum(np.reshape(diff, (-1))**2)))\n",
    "#     plt.imshow(np.reshape(adv_evo_strategy[index_diff].get_best_candidate(), (28, 28)))\n",
    "#     plt.show()\n",
    "#     print(\"Prediction:\", model.predict(np.array([adv_evo_strategy[index_diff].get_best_candidate()])))"
   ]
  },
  {
   "cell_type": "code",
   "execution_count": 575,
   "metadata": {},
   "outputs": [
    {
     "data": {
      "text/plain": [
       "0.06574363405938638"
      ]
     },
     "execution_count": 575,
     "metadata": {},
     "output_type": "execute_result"
    }
   ],
   "source": [
    "np.mean(l2_dists_relative)"
   ]
  },
  {
   "cell_type": "code",
   "execution_count": 55,
   "metadata": {},
   "outputs": [
    {
     "data": {
      "text/plain": [
       "(array([ 5., 17., 16., 13., 19.,  8., 11.,  7.,  1.,  3.]),\n",
       " array([0.42077901, 0.77582747, 1.13087592, 1.48592438, 1.84097283,\n",
       "        2.19602129, 2.55106974, 2.9061182 , 3.26116665, 3.6162151 ,\n",
       "        3.97126356]),\n",
       " <a list of 10 Patch objects>)"
      ]
     },
     "execution_count": 55,
     "metadata": {},
     "output_type": "execute_result"
    },
    {
     "data": {
      "image/png": "[encoded data removed]",
      "text/plain": [
       "<Figure size 432x288 with 1 Axes>"
      ]
     },
     "metadata": {
      "needs_background": "light"
     },
     "output_type": "display_data"
    }
   ],
   "source": [
    "plt.hist(np.array(l2_dists)/255)"
   ]
  },
  {
   "cell_type": "code",
   "execution_count": 357,
   "metadata": {},
   "outputs": [
    {
     "name": "stderr",
     "output_type": "stream",
     "text": [
      "100%|██████████| 2000/2000 [00:06<00:00, 313.61it/s]\n"
     ]
    }
   ],
   "source": [
    "import math\n",
    "linf_dists = []\n",
    "for index_diff in tqdm(range(SIZE)):\n",
    "    diff = np.abs(adv_evo_strategy[index_diff].get_best_candidate() - x_test_correct[index_diff])\n",
    "    diff = np.reshape(diff, (32, 32, 3))\n",
    "    linf_dist = np.max(diff)\n",
    "    linf_dists.append(linf_dist)\n",
    "#     print(\"L2 distance:\", math.sqrt(np.sum(np.reshape(diff, (-1))**2)))\n",
    "#     plt.imshow(np.reshape(adv_evo_strategy[index_diff].get_best_candidate(), (28, 28)))\n",
    "#     plt.show()\n",
    "#     print(\"Prediction:\", model.predict(np.array([adv_evo_strategy[index_diff].get_best_candidate()])))"
   ]
  },
  {
   "cell_type": "code",
   "execution_count": 363,
   "metadata": {},
   "outputs": [
    {
     "data": {
      "text/plain": [
       "197.0575"
      ]
     },
     "execution_count": 363,
     "metadata": {},
     "output_type": "execute_result"
    }
   ],
   "source": [
    "# NOTE: linf very high, if we took random noise at all for few pixels E() is very high: \n",
    "# https://math.stackexchange.com/questions/1696623/what-is-the-expected-value-of-the-largest-of-the-three-dice-rolls\n",
    "np.mean(linf_dists)"
   ]
  },
  {
   "cell_type": "code",
   "execution_count": 482,
   "metadata": {},
   "outputs": [
    {
     "name": "stderr",
     "output_type": "stream",
     "text": [
      "100%|██████████| 2000/2000 [00:00<00:00, 4305.23it/s]\n"
     ]
    }
   ],
   "source": [
    "import math\n",
    "l0_dists = []\n",
    "for index_diff in tqdm(range(SIZE)):\n",
    "    diff = np.abs(adv_evo_strategy[index_diff].get_best_candidate() - x_test_correct[index_diff])\n",
    "    diff = np.reshape(diff, (32, 32, 3))\n",
    "    diff = (diff!=0)\n",
    "    l0_dist = np.sum(diff)\n",
    "    l0_dists.append(l0_dist)\n",
    "#     print(\"L2 distance:\", math.sqrt(np.sum(np.reshape(diff, (-1))**2)))\n",
    "#     plt.imshow(np.reshape(adv_evo_strategy[index_diff].get_best_candidate(), (28, 28)))\n",
    "#     plt.show()\n",
    "#     print(\"Prediction:\", model.predict(np.array([adv_evo_strategy[index_diff].get_best_candidate()])))"
   ]
  },
  {
   "cell_type": "code",
   "execution_count": 483,
   "metadata": {},
   "outputs": [
    {
     "data": {
      "text/plain": [
       "17.6635"
      ]
     },
     "execution_count": 483,
     "metadata": {},
     "output_type": "execute_result"
    }
   ],
   "source": [
    "np.mean(l0_dists)"
   ]
  },
  {
   "cell_type": "code",
   "execution_count": 52,
   "metadata": {},
   "outputs": [
    {
     "data": {
      "text/plain": [
       "(array([47., 25., 13.,  7.,  3.,  2.,  0.,  2.,  0.,  1.]),\n",
       " array([  3. ,  13.1,  23.2,  33.3,  43.4,  53.5,  63.6,  73.7,  83.8,\n",
       "         93.9, 104. ]),\n",
       " <a list of 10 Patch objects>)"
      ]
     },
     "execution_count": 52,
     "metadata": {},
     "output_type": "execute_result"
    },
    {
     "data": {
      "image/png": "[encoded data removed]",
      "text/plain": [
       "<Figure size 432x288 with 1 Axes>"
      ]
     },
     "metadata": {
      "needs_background": "light"
     },
     "output_type": "display_data"
    }
   ],
   "source": [
    "plt.hist(l0_dists)"
   ]
  },
  {
   "cell_type": "code",
   "execution_count": 456,
   "metadata": {},
   "outputs": [
    {
     "data": {
      "text/plain": [
       "array([3])"
      ]
     },
     "execution_count": 456,
     "metadata": {},
     "output_type": "execute_result"
    },
    {
     "data": {
      "image/png": "[encoded data removed]",
      "text/plain": [
       "<Figure size 144x144 with 1 Axes>"
      ]
     },
     "metadata": {
      "needs_background": "light"
     },
     "output_type": "display_data"
    }
   ],
   "source": [
    "img_pert = adv_evo_strategy[15].get_best_candidate()\n",
    "plt.figure(figsize=(2,2))\n",
    "plt.imshow(img_pert.astype(int))\n",
    "np.argmax(model.predict(np.array([img_pert])), axis=1)"
   ]
  },
  {
   "cell_type": "code",
   "execution_count": 469,
   "metadata": {},
   "outputs": [],
   "source": [
    "cifar_label_to_text = [\n",
    "    \"airplane\",\n",
    "    \"automobile\",\n",
    "    \"bird\",\n",
    "    \"cat\",\n",
    "    \"deer\",\n",
    "    \"dog\",\n",
    "    \"frog\",\n",
    "    \"horse\",\n",
    "    \"ship\",\n",
    "    \"truck\"\n",
    "]"
   ]
  },
  {
   "cell_type": "code",
   "execution_count": 470,
   "metadata": {},
   "outputs": [],
   "source": [
    "keras_idx_to_name = cifar_label_to_text.copy()"
   ]
  },
  {
   "cell_type": "code",
   "execution_count": 563,
   "metadata": {},
   "outputs": [
    {
     "data": {
      "image/png": "[encoded data removed]",
      "text/plain": [
       "<Figure size 1584x504 with 16 Axes>"
      ]
     },
     "metadata": {
      "needs_background": "light"
     },
     "output_type": "display_data"
    }
   ],
   "source": [
    "plt.rcParams.update({'font.size': 12})\n",
    "\n",
    "w=10\n",
    "h=10\n",
    "fig=plt.figure(figsize=(22, 7))\n",
    "fig.tight_layout()\n",
    "plt.subplots_adjust(top = 0.99, bottom=0.01, hspace=0.1, wspace=0.2)\n",
    "\n",
    "columns = 8\n",
    "rows = 2\n",
    "img_curr = 0\n",
    "for i in range(1, columns + 1):\n",
    "    img_indx = imgss[img_curr]\n",
    "    initial = (keras_idx_to_name[adv_evo_strategy[img_indx].label])\n",
    "    if len(initial) > 30:\n",
    "        initial = initial[:21] + \"\\n\" + initial[21:]\n",
    "    fig.add_subplot(rows, columns, i)\n",
    "    plt.title(f\"Original, \\n {initial}\", fontdict={\"size\":17})\n",
    "    img_start = adv_evo_strategy[img_indx].img.astype(int)\n",
    "    plt.imshow(img_start)\n",
    "    \n",
    "    fig.add_subplot(rows, columns, i + columns)\n",
    "    \n",
    "    img_final = adv_evo_strategy[img_indx].get_best_candidate()\n",
    "    predss = model.predict(np.expand_dims(img_final, axis=0))[0]\n",
    "    predicted = np.argmax(predss)\n",
    "    diff = math.sqrt(np.sum((img_final - img_start) **2))\n",
    "    l2_distance = int((diff/(255)) * 100)/100\n",
    "    l0_distance = (img_start != img_final).sum()\n",
    "    final = (keras_idx_to_name[predicted])\n",
    "    plt.title(f\"Perturbed, \\n {final}\\n L2 distance:{l2_distance}\\n L0 distance:{l0_distance}\", fontdict={\"size\":17})\n",
    "    plt.imshow(img_final.astype(int))\n",
    "    img_curr += 1\n",
    "plt.show()"
   ]
  }
 ],
 "metadata": {
  "kernelspec": {
   "display_name": "Python 3",
   "language": "python",
   "name": "python3"
  },
  "language_info": {
   "codemirror_mode": {
    "name": "ipython",
    "version": 3
   },
   "file_extension": ".py",
   "mimetype": "text/x-python",
   "name": "python",
   "nbconvert_exporter": "python",
   "pygments_lexer": "ipython3",
   "version": "3.7.0"
  }
 },
 "nbformat": 4,
 "nbformat_minor": 4
}
