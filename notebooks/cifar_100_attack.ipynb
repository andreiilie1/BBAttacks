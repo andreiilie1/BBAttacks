{
 "cells": [
  {
   "cell_type": "code",
   "execution_count": null,
   "id": "ad4b8402-04e6-490e-979b-3bb7d4f9178e",
   "metadata": {},
   "outputs": [],
   "source": [
    "import sys\n",
    "sys.path.append(\"/home/ailie/Repos/BBAttacks/attacks/\")\n",
    "sys.path.append(\"/home/ailie/Repos/BBAttacks/utils/\")\n",
    "\n",
    "import utils\n",
    "from data_manager import load_data\n",
    "\n",
    "# Black Box Attacks\n",
    "import random_noise\n",
    "import EvoStrategy\n",
    "import SimbaWrapper"
   ]
  },
  {
   "cell_type": "code",
   "execution_count": null,
   "id": "de16ecdd-37d1-4658-9e58-e01a68be3e33",
   "metadata": {},
   "outputs": [],
   "source": [
    "from tensorflow import keras\n",
    "import numpy as np\n",
    "import pandas as pd\n",
    "import matplotlib.pyplot as plt\n",
    "import importlib\n",
    "from tensorflow.keras.datasets import cifar100\n",
    "from tensorflow.keras import backend as K\n",
    "from tensorflow import keras as keras\n",
    "importlib.reload(EvoStrategy)\n",
    "import json\n",
    "import time\n",
    "import datetime\n",
    "from pathlib import Path\n",
    "from tqdm.notebook import tqdm\n",
    "import sys\n",
    "import gc"
   ]
  },
  {
   "cell_type": "code",
   "execution_count": null,
   "id": "59f8b83e-c8e0-4d7b-bb22-a51cd283a62c",
   "metadata": {},
   "outputs": [],
   "source": [
    "import tensorflow as tf\n",
    "DEVICE = '/GPU:1'"
   ]
  },
  {
   "cell_type": "code",
   "execution_count": null,
   "id": "77f53209-e3fe-48c3-9d61-197c86878be6",
   "metadata": {},
   "outputs": [],
   "source": [
    "CIFAR100_VGG_PATH = \"/home/ailie/Repos/BBAttacks/models/cifar100/vgg/\"\n",
    "sys.path.append(CIFAR100_VGG_PATH)\n",
    "import cifar100vgg"
   ]
  },
  {
   "cell_type": "code",
   "execution_count": null,
   "id": "6cc752a4-e913-426f-952b-e156eca8c8a4",
   "metadata": {
    "tags": []
   },
   "outputs": [],
   "source": [
    "importlib.reload(cifar100vgg)\n",
    "WEIGHTS_FILE_NAME = \"cifar100vgg.h5\"\n",
    "model = cifar100vgg.cifar100vgg(train=False, weights_path=CIFAR100_VGG_PATH + WEIGHTS_FILE_NAME)"
   ]
  },
  {
   "cell_type": "code",
   "execution_count": null,
   "id": "94a2fade-c060-4228-a2d4-17e687cb0490",
   "metadata": {},
   "outputs": [],
   "source": [
    "NUM_CLASSES = 100"
   ]
  },
  {
   "cell_type": "code",
   "execution_count": null,
   "id": "8373e45c-3d7a-41f6-8a31-f1f284e3436b",
   "metadata": {},
   "outputs": [],
   "source": [
    "LOAD_DATA = True\n",
    "SAVE_DATA = False"
   ]
  },
  {
   "cell_type": "code",
   "execution_count": null,
   "id": "d1f9aa99-4e26-4a88-b9f3-6288424b4007",
   "metadata": {},
   "outputs": [],
   "source": [
    "if LOAD_DATA:\n",
    "    (x_train, y_train), (x_test, y_test) = cifar100.load_data()\n",
    "\n",
    "    x_train = x_train.astype('float32')\n",
    "    x_test = x_test.astype('float32')\n",
    "\n",
    "    y_train = keras.utils.to_categorical(y_train, NUM_CLASSES)\n",
    "    y_test = keras.utils.to_categorical(y_test, NUM_CLASSES)\n",
    "    \n",
    "    if SAVE_DATA:\n",
    "        np.save(\"x_test.npy\", x_test)\n",
    "        np.save(\"y_test.npy\", y_test)"
   ]
  },
  {
   "cell_type": "code",
   "execution_count": null,
   "id": "9323008d-2905-4f87-a457-3743cb82366d",
   "metadata": {},
   "outputs": [],
   "source": [
    "x_train = x_train.astype('int')\n",
    "x_test = x_test.astype('int')"
   ]
  },
  {
   "cell_type": "code",
   "execution_count": null,
   "id": "c3372437-f926-4d3c-b176-a4405fd21213",
   "metadata": {},
   "outputs": [],
   "source": [
    "gc.collect()"
   ]
  },
  {
   "cell_type": "markdown",
   "id": "ac1fcfb3-d6a0-4069-94ce-fd36209cd9b6",
   "metadata": {},
   "source": [
    "<h4> Check the training accuracy </h4>"
   ]
  },
  {
   "cell_type": "code",
   "execution_count": null,
   "id": "805465c6-87c5-46de-87a9-2bcfc8eaba4f",
   "metadata": {},
   "outputs": [],
   "source": [
    "with tf.device(DEVICE):\n",
    "    preds_train = model.predict(x_train)\n",
    "    \n",
    "preds_train_labels = np.argmax(preds_train, axis=1)"
   ]
  },
  {
   "cell_type": "code",
   "execution_count": null,
   "id": "614377b1-2e94-4349-aa14-5b78501c12d3",
   "metadata": {},
   "outputs": [],
   "source": [
    "true_train_labels = np.argmax(y_train, axis=1)"
   ]
  },
  {
   "cell_type": "code",
   "execution_count": null,
   "id": "08d2b837-4a07-4aed-a383-f71516891c34",
   "metadata": {},
   "outputs": [],
   "source": [
    "acc_train = np.mean(true_train_labels == preds_train_labels)\n",
    "print(f\"Training accuracy: {acc_train}\")"
   ]
  },
  {
   "cell_type": "markdown",
   "id": "90bb2332-1bba-4fe5-887a-c0a94f7d0128",
   "metadata": {},
   "source": [
    "<h4> Check the test accuracy </h4>"
   ]
  },
  {
   "cell_type": "code",
   "execution_count": null,
   "id": "d6ccbd1a-60cf-4d01-a770-9334a4039832",
   "metadata": {},
   "outputs": [],
   "source": [
    "with tf.device(DEVICE):\n",
    "    preds_test = model.predict(x_test)\n",
    "\n",
    "preds_test_labels = np.argmax(preds_test, axis=1)"
   ]
  },
  {
   "cell_type": "code",
   "execution_count": null,
   "id": "88000fcd-79f1-4958-abd7-1dadcee2c731",
   "metadata": {},
   "outputs": [],
   "source": [
    "true_test_labels = np.argmax(y_test, axis=1)"
   ]
  },
  {
   "cell_type": "code",
   "execution_count": null,
   "id": "1d552171-e9db-4b76-ac3b-ad9e09b8eb18",
   "metadata": {},
   "outputs": [],
   "source": [
    "acc_test = np.mean(true_test_labels == preds_test_labels)\n",
    "print(f\"Test accuracy: {acc_test}\")"
   ]
  },
  {
   "cell_type": "markdown",
   "id": "99b56ae0-f895-4ff8-8e65-a081c5c51136",
   "metadata": {},
   "source": [
    "<h4> Save the images classified correctly by the network </h4>"
   ]
  },
  {
   "cell_type": "code",
   "execution_count": null,
   "id": "c914e135-12e3-4a2c-85ab-369b30ed6042",
   "metadata": {},
   "outputs": [],
   "source": [
    "x_test_correct = x_test[preds_test_labels == true_test_labels]\n",
    "y_test_correct = y_test[preds_test_labels == true_test_labels]"
   ]
  },
  {
   "cell_type": "markdown",
   "id": "4c19d1fa-ab24-44f4-8b21-f3b0c0d14943",
   "metadata": {},
   "source": [
    "<h3> Run baseline EvoBA </h3>"
   ]
  },
  {
   "cell_type": "code",
   "execution_count": null,
   "id": "5b252a21-a62f-40eb-bad8-c06cce4a1b3a",
   "metadata": {},
   "outputs": [],
   "source": [
    "importlib.reload(EvoStrategy)"
   ]
  },
  {
   "cell_type": "code",
   "execution_count": null,
   "id": "62bd3804-c3ad-41bb-8fc3-b1136b248522",
   "metadata": {},
   "outputs": [],
   "source": [
    "GENERATION_SIZE = 30\n",
    "PIXEL_COUNT = 1\n",
    "STEPS = 80"
   ]
  },
  {
   "cell_type": "code",
   "execution_count": null,
   "id": "0b0ecc11-f167-47f9-84f0-7c4862902e40",
   "metadata": {},
   "outputs": [],
   "source": [
    "LEFT_IDX_ATTACK_IMAGES = 0\n",
    "RIGHT_IDX_ATTACK_IMAGES = 20\n",
    "SAMPLE_IMAGES = x_test_correct[LEFT_IDX_ATTACK_IMAGES: RIGHT_IDX_ATTACK_IMAGES]\n",
    "SAMPLE_Y = y_test_correct[LEFT_IDX_ATTACK_IMAGES: RIGHT_IDX_ATTACK_IMAGES]"
   ]
  },
  {
   "cell_type": "code",
   "execution_count": null,
   "id": "22f315d6-61bf-4b13-8a03-25e20df13289",
   "metadata": {},
   "outputs": [],
   "source": [
    "VERBOSE = False"
   ]
  },
  {
   "cell_type": "code",
   "execution_count": null,
   "id": "3294bd7a-3c80-497f-be0b-54983fe12d07",
   "metadata": {},
   "outputs": [],
   "source": [
    "%%time\n",
    "\n",
    "with tf.device(DEVICE):\n",
    "    adv_evo_strategy = {}\n",
    "    \n",
    "    for index in tqdm(range(len(SAMPLE_IMAGES))):\n",
    "        img = SAMPLE_IMAGES[index]\n",
    "        label = SAMPLE_Y[index]\n",
    "        \n",
    "        true_label = np.argmax(label)\n",
    "\n",
    "        adv_evo_strategy[index] = EvoStrategy.AdversarialPerturbationEvoStraegy(\n",
    "            model=model,\n",
    "            img=img,\n",
    "            label=true_label,\n",
    "            generation_size=GENERATION_SIZE, \n",
    "            one_step_perturbation_pixel_count=PIXEL_COUNT,\n",
    "            verbose=VERBOSE,\n",
    "            zero_one_scale=False\n",
    "        )\n",
    "\n",
    "        no_steps = adv_evo_strategy[index].run_adversarial_attack(steps=STEPS) "
   ]
  },
  {
   "cell_type": "code",
   "execution_count": null,
   "id": "b9e039a6-5d72-400f-95e6-55f877beaf0c",
   "metadata": {
    "tags": []
   },
   "outputs": [],
   "source": [
    "def get_evoba_stats(adv_evo_strategy):\n",
    "    count_succ = 0\n",
    "    queries_succ = []\n",
    "    l0_dists_succ = []\n",
    "    indices_succ = []\n",
    "\n",
    "    count_fail = 0\n",
    "    indices_fails = []\n",
    "\n",
    "    for i in tqdm(range(len(adv_evo_strategy))):\n",
    "        img = adv_evo_strategy[i].img\n",
    "\n",
    "        if adv_evo_strategy[i].stop_criterion():\n",
    "            count_succ += 1\n",
    "            queries_succ.append(adv_evo_strategy[i].queries)\n",
    "            l0_dists_succ.append(np.sum(adv_evo_strategy[i].get_best_candidate() != img))\n",
    "            index_succ.append(i)\n",
    "        else:\n",
    "            count_fail +=1\n",
    "            index_fail.append(i)\n",
    "        \n",
    "    return {\n",
    "        \"count_succ\": count_succ,\n",
    "        \"queries_succ\": queries_succ,\n",
    "        \"l0_dists_succ\": l0_dists_succ, \n",
    "        \"indices_succ\": indices_succ,\n",
    "        \"count_fail\": count_fail,\n",
    "        \"indices_fails\": indices_fails\n",
    "    }"
   ]
  },
  {
   "cell_type": "code",
   "execution_count": null,
   "id": "f625a673-7490-44d9-9b14-4abaf6d04ecd",
   "metadata": {
    "tags": []
   },
   "outputs": [],
   "source": [
    "evoba_stats = utils.get_evoba_stats(adv_evo_strategy)"
   ]
  },
  {
   "cell_type": "code",
   "execution_count": null,
   "id": "415becc1-ec9f-471f-9055-26453d335227",
   "metadata": {},
   "outputs": [],
   "source": [
    "np.mean(evoba_stats[\"queries_succ\"])"
   ]
  },
  {
   "cell_type": "code",
   "execution_count": null,
   "id": "f4fae0d1-941a-4a07-9d84-de65fec45f9e",
   "metadata": {},
   "outputs": [],
   "source": []
  }
 ],
 "metadata": {
  "kernelspec": {
   "display_name": "Python 3 (ipykernel)",
   "language": "python",
   "name": "python3"
  },
  "language_info": {
   "codemirror_mode": {
    "name": "ipython",
    "version": 3
   },
   "file_extension": ".py",
   "mimetype": "text/x-python",
   "name": "python",
   "nbconvert_exporter": "python",
   "pygments_lexer": "ipython3",
   "version": "3.7.11"
  }
 },
 "nbformat": 4,
 "nbformat_minor": 5
}
