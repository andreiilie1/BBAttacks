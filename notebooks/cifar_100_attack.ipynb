{
 "cells": [
  {
   "cell_type": "code",
   "execution_count": 1,
   "id": "b1d6ee0d-9a34-4380-b1ee-33e494688360",
   "metadata": {},
   "outputs": [],
   "source": [
    "import os\n",
    "GPU_ID = \"0\""
   ]
  },
  {
   "cell_type": "code",
   "execution_count": 2,
   "id": "139efd94-5bc6-4215-83d5-edbf1e59d53c",
   "metadata": {},
   "outputs": [],
   "source": [
    "os.environ[\"CUDA_DEVICE_ORDER\"]=\"PCI_BUS_ID\"   # see issue #152\n",
    "os.environ[\"CUDA_VISIBLE_DEVICES\"]=GPU_ID"
   ]
  },
  {
   "cell_type": "code",
   "execution_count": 3,
   "id": "ad4b8402-04e6-490e-979b-3bb7d4f9178e",
   "metadata": {},
   "outputs": [],
   "source": [
    "import sys\n",
    "sys.path.append(\"/home/ailie/Repos/BBAttacks/attacks/\")\n",
    "sys.path.append(\"/home/ailie/Repos/BBAttacks/utils/\")\n",
    "\n",
    "import utils\n",
    "from data_manager import load_data\n",
    "\n",
    "# Black Box Attacks\n",
    "import random_noise\n",
    "import EvoStrategy\n",
    "import SimbaWrapper"
   ]
  },
  {
   "cell_type": "code",
   "execution_count": 4,
   "id": "de16ecdd-37d1-4658-9e58-e01a68be3e33",
   "metadata": {},
   "outputs": [],
   "source": [
    "from tensorflow import keras\n",
    "import numpy as np\n",
    "import pandas as pd\n",
    "import matplotlib.pyplot as plt\n",
    "import importlib\n",
    "from tensorflow.keras.datasets import cifar100\n",
    "from tensorflow.keras import backend as K\n",
    "from tensorflow import keras as keras\n",
    "importlib.reload(EvoStrategy)\n",
    "import json\n",
    "import time\n",
    "import datetime\n",
    "from pathlib import Path\n",
    "from tqdm.notebook import tqdm\n",
    "import sys\n",
    "import gc"
   ]
  },
  {
   "cell_type": "code",
   "execution_count": 5,
   "id": "59f8b83e-c8e0-4d7b-bb22-a51cd283a62c",
   "metadata": {},
   "outputs": [],
   "source": [
    "import tensorflow as tf\n",
    "DEVICE = f'/GPU:{GPU_ID}'"
   ]
  },
  {
   "cell_type": "code",
   "execution_count": 6,
   "id": "77f53209-e3fe-48c3-9d61-197c86878be6",
   "metadata": {},
   "outputs": [],
   "source": [
    "CIFAR100_VGG_PATH = \"/home/ailie/Repos/BBAttacks/models/cifar100vgg/\"\n",
    "sys.path.append(CIFAR100_VGG_PATH)\n",
    "import cifar100vgg"
   ]
  },
  {
   "cell_type": "code",
   "execution_count": 7,
   "id": "6cc752a4-e913-426f-952b-e156eca8c8a4",
   "metadata": {
    "tags": []
   },
   "outputs": [],
   "source": [
    "importlib.reload(cifar100vgg)\n",
    "WEIGHTS_FILE_NAME = \"cifar100vgg.h5\"\n",
    "model = cifar100vgg.cifar100vgg(train=False, weights_path=CIFAR100_VGG_PATH + WEIGHTS_FILE_NAME)"
   ]
  },
  {
   "cell_type": "code",
   "execution_count": 8,
   "id": "94a2fade-c060-4228-a2d4-17e687cb0490",
   "metadata": {},
   "outputs": [],
   "source": [
    "NUM_CLASSES = 100"
   ]
  },
  {
   "cell_type": "code",
   "execution_count": 9,
   "id": "8373e45c-3d7a-41f6-8a31-f1f284e3436b",
   "metadata": {},
   "outputs": [],
   "source": [
    "LOAD_DATA = True\n",
    "SAVE_DATA = False"
   ]
  },
  {
   "cell_type": "code",
   "execution_count": 10,
   "id": "d1f9aa99-4e26-4a88-b9f3-6288424b4007",
   "metadata": {},
   "outputs": [],
   "source": [
    "if LOAD_DATA:\n",
    "    (x_train, y_train), (x_test, y_test) = cifar100.load_data()\n",
    "\n",
    "    x_train = x_train.astype('float32')\n",
    "    x_test = x_test.astype('float32')\n",
    "\n",
    "    y_train = keras.utils.to_categorical(y_train, NUM_CLASSES)\n",
    "    y_test = keras.utils.to_categorical(y_test, NUM_CLASSES)\n",
    "    \n",
    "    if SAVE_DATA:\n",
    "        np.save(\"x_test.npy\", x_test)\n",
    "        np.save(\"y_test.npy\", y_test)"
   ]
  },
  {
   "cell_type": "code",
   "execution_count": 11,
   "id": "9323008d-2905-4f87-a457-3743cb82366d",
   "metadata": {},
   "outputs": [],
   "source": [
    "x_train = x_train.astype('int')\n",
    "x_test = x_test.astype('int')"
   ]
  },
  {
   "cell_type": "code",
   "execution_count": 12,
   "id": "c3372437-f926-4d3c-b176-a4405fd21213",
   "metadata": {},
   "outputs": [
    {
     "data": {
      "text/plain": [
       "119"
      ]
     },
     "execution_count": 12,
     "metadata": {},
     "output_type": "execute_result"
    }
   ],
   "source": [
    "gc.collect()"
   ]
  },
  {
   "cell_type": "markdown",
   "id": "ac1fcfb3-d6a0-4069-94ce-fd36209cd9b6",
   "metadata": {},
   "source": [
    "<h4> Check the training accuracy </h4>"
   ]
  },
  {
   "cell_type": "code",
   "execution_count": 13,
   "id": "805465c6-87c5-46de-87a9-2bcfc8eaba4f",
   "metadata": {},
   "outputs": [],
   "source": [
    "with tf.device(DEVICE):\n",
    "    preds_train = model.predict(x_train)\n",
    "    \n",
    "preds_train_labels = np.argmax(preds_train, axis=1)"
   ]
  },
  {
   "cell_type": "code",
   "execution_count": 14,
   "id": "614377b1-2e94-4349-aa14-5b78501c12d3",
   "metadata": {},
   "outputs": [],
   "source": [
    "true_train_labels = np.argmax(y_train, axis=1)"
   ]
  },
  {
   "cell_type": "code",
   "execution_count": 15,
   "id": "08d2b837-4a07-4aed-a383-f71516891c34",
   "metadata": {},
   "outputs": [
    {
     "name": "stdout",
     "output_type": "stream",
     "text": [
      "Training accuracy: 0.99638\n"
     ]
    }
   ],
   "source": [
    "acc_train = np.mean(true_train_labels == preds_train_labels)\n",
    "print(f\"Training accuracy: {acc_train}\")"
   ]
  },
  {
   "cell_type": "markdown",
   "id": "90bb2332-1bba-4fe5-887a-c0a94f7d0128",
   "metadata": {},
   "source": [
    "<h4> Check the test accuracy </h4>"
   ]
  },
  {
   "cell_type": "code",
   "execution_count": 16,
   "id": "d6ccbd1a-60cf-4d01-a770-9334a4039832",
   "metadata": {},
   "outputs": [],
   "source": [
    "with tf.device(DEVICE):\n",
    "    preds_test = model.predict(x_test)\n",
    "\n",
    "preds_test_labels = np.argmax(preds_test, axis=1)"
   ]
  },
  {
   "cell_type": "code",
   "execution_count": 17,
   "id": "88000fcd-79f1-4958-abd7-1dadcee2c731",
   "metadata": {},
   "outputs": [],
   "source": [
    "true_test_labels = np.argmax(y_test, axis=1)"
   ]
  },
  {
   "cell_type": "code",
   "execution_count": 18,
   "id": "1d552171-e9db-4b76-ac3b-ad9e09b8eb18",
   "metadata": {},
   "outputs": [
    {
     "name": "stdout",
     "output_type": "stream",
     "text": [
      "Test accuracy: 0.7048\n"
     ]
    }
   ],
   "source": [
    "acc_test = np.mean(true_test_labels == preds_test_labels)\n",
    "print(f\"Test accuracy: {acc_test}\")"
   ]
  },
  {
   "cell_type": "markdown",
   "id": "99b56ae0-f895-4ff8-8e65-a081c5c51136",
   "metadata": {},
   "source": [
    "<h4> Save the images classified correctly by the network </h4>"
   ]
  },
  {
   "cell_type": "code",
   "execution_count": 19,
   "id": "c914e135-12e3-4a2c-85ab-369b30ed6042",
   "metadata": {},
   "outputs": [],
   "source": [
    "x_test_correct = x_test[preds_test_labels == true_test_labels]\n",
    "y_test_correct = y_test[preds_test_labels == true_test_labels]"
   ]
  },
  {
   "cell_type": "markdown",
   "id": "4c19d1fa-ab24-44f4-8b21-f3b0c0d14943",
   "metadata": {},
   "source": [
    "<h2> Run baseline EvoBA </h2>"
   ]
  },
  {
   "cell_type": "code",
   "execution_count": 20,
   "id": "5b252a21-a62f-40eb-bad8-c06cce4a1b3a",
   "metadata": {},
   "outputs": [
    {
     "data": {
      "text/plain": [
       "<module 'utils' from '/home/ailie/Repos/BBAttacks/utils/utils.py'>"
      ]
     },
     "execution_count": 20,
     "metadata": {},
     "output_type": "execute_result"
    }
   ],
   "source": [
    "importlib.reload(EvoStrategy)\n",
    "importlib.reload(utils)"
   ]
  },
  {
   "cell_type": "code",
   "execution_count": 21,
   "id": "8219791f-7117-4e13-a504-cd9e2cae561c",
   "metadata": {},
   "outputs": [],
   "source": [
    "EXPERIMENT_NAME_MLFLOW = \"CIFAR100\""
   ]
  },
  {
   "cell_type": "code",
   "execution_count": 22,
   "id": "c5c45694-b9f4-4550-b78a-4588d0c8e7e3",
   "metadata": {},
   "outputs": [],
   "source": [
    "from utils import AttackType"
   ]
  },
  {
   "cell_type": "code",
   "execution_count": 23,
   "id": "62bd3804-c3ad-41bb-8fc3-b1136b248522",
   "metadata": {},
   "outputs": [],
   "source": [
    "GENERATION_SIZE = 30\n",
    "PIXEL_COUNT = 1\n",
    "STEPS = 80"
   ]
  },
  {
   "cell_type": "code",
   "execution_count": 24,
   "id": "0b0ecc11-f167-47f9-84f0-7c4862902e40",
   "metadata": {},
   "outputs": [],
   "source": [
    "LEFT_IDX_ATTACK_IMAGES = 0\n",
    "RIGHT_IDX_ATTACK_IMAGES = 1000\n",
    "SAMPLE_IMAGES = x_test_correct[LEFT_IDX_ATTACK_IMAGES: RIGHT_IDX_ATTACK_IMAGES]\n",
    "SAMPLE_Y = y_test_correct[LEFT_IDX_ATTACK_IMAGES: RIGHT_IDX_ATTACK_IMAGES]"
   ]
  },
  {
   "cell_type": "code",
   "execution_count": 25,
   "id": "22f315d6-61bf-4b13-8a03-25e20df13289",
   "metadata": {},
   "outputs": [],
   "source": [
    "VERBOSE = False"
   ]
  },
  {
   "cell_type": "code",
   "execution_count": 26,
   "id": "3294bd7a-3c80-497f-be0b-54983fe12d07",
   "metadata": {},
   "outputs": [
    {
     "data": {
      "application/vnd.jupyter.widget-view+json": {
       "model_id": "f8d9d500d6844ca596c5f35a2dcb8224",
       "version_major": 2,
       "version_minor": 0
      },
      "text/plain": [
       "  0%|          | 0/1000 [00:00<?, ?it/s]"
      ]
     },
     "metadata": {},
     "output_type": "display_data"
    },
    {
     "name": "stdout",
     "output_type": "stream",
     "text": [
      "CPU times: user 6min 23s, sys: 8.33 s, total: 6min 31s\n",
      "Wall time: 6min 10s\n"
     ]
    }
   ],
   "source": [
    "%%time\n",
    "\n",
    "with tf.device(DEVICE):\n",
    "    adv_evo_strategy = {}\n",
    "    \n",
    "    for index in tqdm(range(len(SAMPLE_IMAGES))):\n",
    "        img = SAMPLE_IMAGES[index]\n",
    "        label = SAMPLE_Y[index]\n",
    "        \n",
    "        true_label = np.argmax(label)\n",
    "\n",
    "        adv_evo_strategy[index] = EvoStrategy.AdversarialPerturbationEvoStraegy(\n",
    "            model=model,\n",
    "            img=img,\n",
    "            label=true_label,\n",
    "            generation_size=GENERATION_SIZE, \n",
    "            one_step_perturbation_pixel_count=PIXEL_COUNT,\n",
    "            verbose=VERBOSE,\n",
    "            zero_one_scale=False\n",
    "        )\n",
    "\n",
    "        no_steps = adv_evo_strategy[index].run_adversarial_attack(steps=STEPS) "
   ]
  },
  {
   "cell_type": "code",
   "execution_count": 27,
   "id": "f625a673-7490-44d9-9b14-4abaf6d04ecd",
   "metadata": {
    "tags": []
   },
   "outputs": [],
   "source": [
    "evoba_stats = utils.get_evoba_stats(adv_evo_strategy)"
   ]
  },
  {
   "cell_type": "code",
   "execution_count": 28,
   "id": "9c40b5d2-a6de-4a8a-b603-e0aba84a3cb4",
   "metadata": {
    "tags": []
   },
   "outputs": [
    {
     "name": "stdout",
     "output_type": "stream",
     "text": [
      "\n",
      "EvoBA STATS (L0 attack)\n",
      "____________________\n",
      "Perturbed successfully 1000/1000 images\n",
      "Average query count: 191.08\n",
      "Average l0 distance: 18.871\n",
      "\n",
      "Median query count: 151.0\n",
      "Median l0 dist: 15.0\n",
      "\n",
      "Max query count: 1591\n",
      "Max l0 dist: 150\n",
      "____________________\n",
      "\n"
     ]
    }
   ],
   "source": [
    "utils.print_evoba_stats(evoba_stats)"
   ]
  },
  {
   "cell_type": "code",
   "execution_count": 29,
   "id": "a5e2e063-f3e0-4523-a6f9-b2af0dc60ed8",
   "metadata": {},
   "outputs": [
    {
     "name": "stdout",
     "output_type": "stream",
     "text": [
      "Ended previous run\n",
      "Logging run EVOBA under experiment CIFAR100\n"
     ]
    },
    {
     "data": {
      "text/plain": [
       "'SUCCESS'"
      ]
     },
     "execution_count": 29,
     "metadata": {},
     "output_type": "execute_result"
    },
    {
     "data": {
      "text/plain": [
       "<Figure size 432x288 with 0 Axes>"
      ]
     },
     "metadata": {},
     "output_type": "display_data"
    }
   ],
   "source": [
    "utils.generate_mlflow_logs(\n",
    "    strategy_objects=adv_evo_strategy, \n",
    "    attack_type=AttackType.EVOBA, \n",
    "    unperturbed_images=SAMPLE_IMAGES, \n",
    "    run_name=\"EVOBA\", \n",
    "    experiment_name=EXPERIMENT_NAME_MLFLOW\n",
    ")"
   ]
  },
  {
   "cell_type": "markdown",
   "id": "309ef807-f17b-4db8-8a59-b5af7b47bdb3",
   "metadata": {},
   "source": [
    "<h2> Run Epsilon Greedy </h2>"
   ]
  },
  {
   "cell_type": "code",
   "execution_count": 30,
   "id": "cf137741-d370-4ff2-9c92-87e7a7b1abfe",
   "metadata": {},
   "outputs": [
    {
     "data": {
      "text/plain": [
       "<module 'EpsilonGreedyAttack' from '/home/ailie/Repos/BBAttacks/attacks/EpsilonGreedyAttack.py'>"
      ]
     },
     "execution_count": 30,
     "metadata": {},
     "output_type": "execute_result"
    }
   ],
   "source": [
    "import EpsilonGreedyAttack\n",
    "importlib.reload(EpsilonGreedyAttack)"
   ]
  },
  {
   "cell_type": "code",
   "execution_count": 31,
   "id": "4ecf0fab-c715-4830-82e4-2f3edbeda044",
   "metadata": {},
   "outputs": [],
   "source": [
    "# Generate grid of areas (one area = one bandit)\n",
    "BATCH_LEN = 4\n",
    "IMAGE_SIZE = 32\n",
    "assert IMAGE_SIZE % BATCH_LEN == 0\n",
    "\n",
    "pixel_groups = []\n",
    "for i in range(int(IMAGE_SIZE/BATCH_LEN)):\n",
    "    for j in range(int(IMAGE_SIZE/BATCH_LEN)):\n",
    "        current_group = []\n",
    "        for pixel_i in range(BATCH_LEN):\n",
    "            for pixel_j in range(BATCH_LEN):\n",
    "                pixel = (BATCH_LEN * i + pixel_i, BATCH_LEN * j + pixel_j)\n",
    "                current_group.append(pixel)\n",
    "        pixel_groups.append(current_group)"
   ]
  },
  {
   "cell_type": "code",
   "execution_count": null,
   "id": "da2a9b81-2fac-4c48-a4de-4a8b284f9862",
   "metadata": {},
   "outputs": [
    {
     "data": {
      "application/vnd.jupyter.widget-view+json": {
       "model_id": "619db17ab0514dbf8fd29f9fd474d94f",
       "version_major": 2,
       "version_minor": 0
      },
      "text/plain": [
       "  0%|          | 0/1000 [00:00<?, ?it/s]"
      ]
     },
     "metadata": {},
     "output_type": "display_data"
    }
   ],
   "source": [
    "%%time\n",
    "\n",
    "EPS = 0.1\n",
    "\n",
    "with tf.device(DEVICE):\n",
    "    adv_evo_strategy_epsilon = {}\n",
    "    \n",
    "    for index in tqdm(range(len(SAMPLE_IMAGES))):\n",
    "        img = SAMPLE_IMAGES[index]\n",
    "        label = SAMPLE_Y[index]\n",
    "        \n",
    "        true_label = np.argmax(label)\n",
    "\n",
    "        adv_evo_strategy_epsilon[index] = EpsilonGreedyAttack.EpsilonGreedyAttack(\n",
    "            model=model,\n",
    "            img=img,\n",
    "            one_hot_label=label,\n",
    "            pixel_groups=pixel_groups,\n",
    "            epsilon=EPS\n",
    "            # generation_size=GENERATION_SIZE, \n",
    "            # one_step_perturbation_pixel_count=PIXEL_COUNT,\n",
    "            # verbose=VERBOSE,\n",
    "            # zero_one_scale=False\n",
    "        )\n",
    "\n",
    "        no_steps = adv_evo_strategy_epsilon[index].run_attack()\n",
    "\n",
    "params_eps_greedy = {\n",
    "    \"epsilon\": EPS\n",
    "}"
   ]
  },
  {
   "cell_type": "code",
   "execution_count": null,
   "id": "e38a8435-5b67-4277-8c15-867c9dea6f88",
   "metadata": {
    "tags": []
   },
   "outputs": [],
   "source": [
    "eps_greedy_stats = utils.get_epsgreedy_stats(adv_evo_strategy_epsilon, SAMPLE_IMAGES)"
   ]
  },
  {
   "cell_type": "code",
   "execution_count": null,
   "id": "4bb4e097-a482-4e8b-87f4-cd2ecc93daa6",
   "metadata": {},
   "outputs": [],
   "source": [
    "utils.print_evoba_stats(eps_greedy_stats)"
   ]
  },
  {
   "cell_type": "code",
   "execution_count": null,
   "id": "b88996da-78dd-4bc3-b125-72bf7c1868e3",
   "metadata": {},
   "outputs": [],
   "source": [
    "utils.generate_mlflow_logs(\n",
    "    strategy_objects=adv_evo_strategy_epsilon, \n",
    "    attack_type=AttackType.EPSGREEDY, \n",
    "    unperturbed_images=SAMPLE_IMAGES, \n",
    "    run_name=\"EPSGREEDY\", \n",
    "    experiment_name=EXPERIMENT_NAME_MLFLOW,\n",
    "    additional_params=params_eps_greedy\n",
    ")"
   ]
  },
  {
   "cell_type": "code",
   "execution_count": null,
   "id": "90019bdc-9803-49e3-94ab-04ee11ba445f",
   "metadata": {},
   "outputs": [],
   "source": [
    "importlib.reload(utils)\n",
    "from utils import AttackType"
   ]
  },
  {
   "cell_type": "markdown",
   "id": "58fe82f6-91b8-41c3-94a3-4330a43ffb94",
   "metadata": {},
   "source": [
    "<h2> Run Epsilon Greedy Threshold </h2>"
   ]
  },
  {
   "cell_type": "code",
   "execution_count": null,
   "id": "aa679f56-157d-4923-9c03-837b035610cd",
   "metadata": {},
   "outputs": [],
   "source": [
    "import EpsilonGreedyAttackThreshold\n",
    "importlib.reload(EpsilonGreedyAttackThreshold)"
   ]
  },
  {
   "cell_type": "code",
   "execution_count": null,
   "id": "64f52e17-ba97-4489-8702-44e65e2da6a9",
   "metadata": {},
   "outputs": [],
   "source": [
    "# Generate grid of areas (one area = one bandit)\n",
    "BATCH_LEN = 4\n",
    "IMAGE_SIZE = 32\n",
    "assert IMAGE_SIZE % BATCH_LEN == 0\n",
    "\n",
    "pixel_groups = []\n",
    "for i in range(int(IMAGE_SIZE/BATCH_LEN)):\n",
    "    for j in range(int(IMAGE_SIZE/BATCH_LEN)):\n",
    "        current_group = []\n",
    "        for pixel_i in range(BATCH_LEN):\n",
    "            for pixel_j in range(BATCH_LEN):\n",
    "                pixel = (BATCH_LEN * i + pixel_i, BATCH_LEN * j + pixel_j)\n",
    "                current_group.append(pixel)\n",
    "        pixel_groups.append(current_group)"
   ]
  },
  {
   "cell_type": "code",
   "execution_count": null,
   "id": "5d32aa38-ae82-4f2f-ad0c-2006982af83e",
   "metadata": {
    "tags": []
   },
   "outputs": [],
   "source": [
    "%%time\n",
    "\n",
    "EPS = 0.1\n",
    "THRESHOLD = 0.025\n",
    "INCREASE_FACTOR = 1.05\n",
    "DECAY_FACTOR = 0.5\n",
    "MAX_ROUNDS_UNTIL_DECAY = 20\n",
    "\n",
    "with tf.device(DEVICE):\n",
    "    adv_evo_strategy_eps_threshold = {}\n",
    "    \n",
    "    for index in tqdm(range(len(SAMPLE_IMAGES))):\n",
    "        img = SAMPLE_IMAGES[index]\n",
    "        label = SAMPLE_Y[index]\n",
    "        \n",
    "        true_label = np.argmax(label)\n",
    "\n",
    "        adv_evo_strategy_eps_threshold[index] = EpsilonGreedyAttackThreshold.EpsilonGreedyAttackThreshold(\n",
    "            model=model,\n",
    "            img=img,\n",
    "            one_hot_label=label,\n",
    "            pixel_groups=pixel_groups,\n",
    "            threshold=THRESHOLD,\n",
    "            increase_factor=INCREASE_FACTOR,\n",
    "            decay_factor=DECAY_FACTOR,\n",
    "            epsilon=EPS,\n",
    "            max_rounds_until_decay=MAX_ROUNDS_UNTIL_DECAY\n",
    "            # generation_size=GENERATION_SIZE, \n",
    "            # one_step_perturbation_pixel_count=PIXEL_COUNT,\n",
    "            # verbose=VERBOSE,\n",
    "            # zero_one_scale=False\n",
    "        )\n",
    "\n",
    "        no_steps = adv_evo_strategy_eps_threshold[index].run_attack()\n",
    "\n",
    "params_eps_threshold = {\n",
    "    \"epsilon\": EPS,\n",
    "    \"increase_fact\": INCREASE_FACTOR,\n",
    "    \"decay_fact\": DECAY_FACTOR,\n",
    "    \"rounds_decay\": MAX_ROUNDS_UNTIL_DECAY\n",
    "}"
   ]
  },
  {
   "cell_type": "code",
   "execution_count": null,
   "id": "acf51f24-5a4c-4c51-a91b-604dc80b6dd2",
   "metadata": {},
   "outputs": [],
   "source": [
    "eps_threshold_stats = utils.get_epsgreedy_stats(adv_evo_strategy_eps_threshold, SAMPLE_IMAGES)"
   ]
  },
  {
   "cell_type": "code",
   "execution_count": null,
   "id": "c5189651-5c61-4761-a586-7f1ea6547ff3",
   "metadata": {},
   "outputs": [],
   "source": [
    "utils.print_evoba_stats(eps_threshold_stats)"
   ]
  },
  {
   "cell_type": "code",
   "execution_count": null,
   "id": "3f5b9959-9db8-487a-9082-9093aad61ca6",
   "metadata": {},
   "outputs": [],
   "source": [
    "utils.generate_mlflow_logs(\n",
    "    strategy_objects=adv_evo_strategy_eps_threshold, \n",
    "    attack_type=AttackType.EPSGREEDY, \n",
    "    unperturbed_images=SAMPLE_IMAGES, \n",
    "    run_name=\"EPSGREEDY_THRESHOLD\", \n",
    "    experiment_name=EXPERIMENT_NAME_MLFLOW,\n",
    "    additional_params=params_eps_threshold\n",
    ")"
   ]
  },
  {
   "cell_type": "code",
   "execution_count": null,
   "id": "b944ead4-6a05-4563-9583-328f676f2950",
   "metadata": {},
   "outputs": [],
   "source": []
  }
 ],
 "metadata": {
  "kernelspec": {
   "display_name": "Python 3 (ipykernel)",
   "language": "python",
   "name": "python3"
  },
  "language_info": {
   "codemirror_mode": {
    "name": "ipython",
    "version": 3
   },
   "file_extension": ".py",
   "mimetype": "text/x-python",
   "name": "python",
   "nbconvert_exporter": "python",
   "pygments_lexer": "ipython3",
   "version": "3.7.11"
  }
 },
 "nbformat": 4,
 "nbformat_minor": 5
}
